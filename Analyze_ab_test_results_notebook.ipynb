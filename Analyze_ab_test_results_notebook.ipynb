{
 "cells": [
  {
   "cell_type": "markdown",
   "metadata": {},
   "source": [
    "## Analyze A/B Test Results\n",
    "\n",
    "This project will assure you have mastered the subjects covered in the statistics lessons.  The hope is to have this project be as comprehensive of these topics as possible.  Good luck!\n",
    "\n",
    "## Table of Contents\n",
    "- [Introduction](#intro)\n",
    "- [Part I - Probability](#probability)\n",
    "- [Part II - A/B Test](#ab_test)\n",
    "- [Part III - Regression](#regression)\n",
    "\n",
    "\n",
    "<a id='intro'></a>\n",
    "### Introduction\n",
    "\n",
    "A/B tests are very commonly performed by data analysts and data scientists.  It is important that you get some practice working with the difficulties of these \n",
    "\n",
    "For this project, you will be working to understand the results of an A/B test run by an e-commerce website.  Your goal is to work through this notebook to help the company understand if they should implement the new page, keep the old page, or perhaps run the experiment longer to make their decision.\n",
    "\n",
    "**As you work through this notebook, follow along in the classroom and answer the corresponding quiz questions associated with each question.** The labels for each classroom concept are provided for each question.  This will assure you are on the right track as you work through the project, and you can feel more confident in your final submission meeting the criteria.  As a final check, assure you meet all the criteria on the [RUBRIC](https://review.udacity.com/#!/projects/37e27304-ad47-4eb0-a1ab-8c12f60e43d0/rubric).\n",
    "\n",
    "<a id='probability'></a>\n",
    "#### Part I - Probability\n",
    "\n",
    "To get started, let's import our libraries."
   ]
  },
  {
   "cell_type": "code",
   "execution_count": 1,
   "metadata": {},
   "outputs": [],
   "source": [
    "import pandas as pd\n",
    "import numpy as np\n",
    "import random\n",
    "import matplotlib.pyplot as plt\n",
    "%matplotlib inline\n",
    "#We are setting the seed to assure you get the same answers on quizzes as we set up\n",
    "random.seed(42)"
   ]
  },
  {
   "cell_type": "markdown",
   "metadata": {},
   "source": [
    "`1.` Now, read in the `ab_data.csv` data. Store it in `df`.  **Use your dataframe to answer the questions in Quiz 1 of the classroom.**\n",
    "\n",
    "a. Read in the dataset and take a look at the top few rows here:"
   ]
  },
  {
   "cell_type": "code",
   "execution_count": 4,
   "metadata": {},
   "outputs": [],
   "source": [
    "df = pd.read_csv('ab_data.csv')"
   ]
  },
  {
   "cell_type": "code",
   "execution_count": 5,
   "metadata": {},
   "outputs": [
    {
     "name": "stdout",
     "output_type": "stream",
     "text": [
      "<class 'pandas.core.frame.DataFrame'>\n",
      "RangeIndex: 294478 entries, 0 to 294477\n",
      "Data columns (total 5 columns):\n",
      " #   Column        Non-Null Count   Dtype \n",
      "---  ------        --------------   ----- \n",
      " 0   user_id       294478 non-null  int64 \n",
      " 1   timestamp     294478 non-null  object\n",
      " 2   group         294478 non-null  object\n",
      " 3   landing_page  294478 non-null  object\n",
      " 4   converted     294478 non-null  int64 \n",
      "dtypes: int64(2), object(3)\n",
      "memory usage: 11.2+ MB\n"
     ]
    }
   ],
   "source": [
    "df.info()"
   ]
  },
  {
   "cell_type": "code",
   "execution_count": 6,
   "metadata": {},
   "outputs": [
    {
     "data": {
      "text/html": [
       "<div>\n",
       "<style scoped>\n",
       "    .dataframe tbody tr th:only-of-type {\n",
       "        vertical-align: middle;\n",
       "    }\n",
       "\n",
       "    .dataframe tbody tr th {\n",
       "        vertical-align: top;\n",
       "    }\n",
       "\n",
       "    .dataframe thead th {\n",
       "        text-align: right;\n",
       "    }\n",
       "</style>\n",
       "<table border=\"1\" class=\"dataframe\">\n",
       "  <thead>\n",
       "    <tr style=\"text-align: right;\">\n",
       "      <th></th>\n",
       "      <th>user_id</th>\n",
       "      <th>timestamp</th>\n",
       "      <th>group</th>\n",
       "      <th>landing_page</th>\n",
       "      <th>converted</th>\n",
       "    </tr>\n",
       "  </thead>\n",
       "  <tbody>\n",
       "    <tr>\n",
       "      <th>0</th>\n",
       "      <td>851104</td>\n",
       "      <td>2017-01-21 22:11:48.556739</td>\n",
       "      <td>control</td>\n",
       "      <td>old_page</td>\n",
       "      <td>0</td>\n",
       "    </tr>\n",
       "    <tr>\n",
       "      <th>1</th>\n",
       "      <td>804228</td>\n",
       "      <td>2017-01-12 08:01:45.159739</td>\n",
       "      <td>control</td>\n",
       "      <td>old_page</td>\n",
       "      <td>0</td>\n",
       "    </tr>\n",
       "    <tr>\n",
       "      <th>2</th>\n",
       "      <td>661590</td>\n",
       "      <td>2017-01-11 16:55:06.154213</td>\n",
       "      <td>treatment</td>\n",
       "      <td>new_page</td>\n",
       "      <td>0</td>\n",
       "    </tr>\n",
       "    <tr>\n",
       "      <th>3</th>\n",
       "      <td>853541</td>\n",
       "      <td>2017-01-08 18:28:03.143765</td>\n",
       "      <td>treatment</td>\n",
       "      <td>new_page</td>\n",
       "      <td>0</td>\n",
       "    </tr>\n",
       "    <tr>\n",
       "      <th>4</th>\n",
       "      <td>864975</td>\n",
       "      <td>2017-01-21 01:52:26.210827</td>\n",
       "      <td>control</td>\n",
       "      <td>old_page</td>\n",
       "      <td>1</td>\n",
       "    </tr>\n",
       "  </tbody>\n",
       "</table>\n",
       "</div>"
      ],
      "text/plain": [
       "   user_id                   timestamp      group landing_page  converted\n",
       "0   851104  2017-01-21 22:11:48.556739    control     old_page          0\n",
       "1   804228  2017-01-12 08:01:45.159739    control     old_page          0\n",
       "2   661590  2017-01-11 16:55:06.154213  treatment     new_page          0\n",
       "3   853541  2017-01-08 18:28:03.143765  treatment     new_page          0\n",
       "4   864975  2017-01-21 01:52:26.210827    control     old_page          1"
      ]
     },
     "execution_count": 6,
     "metadata": {},
     "output_type": "execute_result"
    }
   ],
   "source": [
    "df.head(5)"
   ]
  },
  {
   "cell_type": "markdown",
   "metadata": {},
   "source": [
    "b. Use the below cell to find the number of rows in the dataset."
   ]
  },
  {
   "cell_type": "code",
   "execution_count": 7,
   "metadata": {},
   "outputs": [
    {
     "name": "stdout",
     "output_type": "stream",
     "text": [
      "294478\n"
     ]
    }
   ],
   "source": [
    "num_rows = df.shape[0]\n",
    "print(num_rows)"
   ]
  },
  {
   "cell_type": "markdown",
   "metadata": {},
   "source": [
    "c. The number of unique users in the dataset."
   ]
  },
  {
   "cell_type": "code",
   "execution_count": 8,
   "metadata": {},
   "outputs": [
    {
     "data": {
      "text/plain": [
       "290584"
      ]
     },
     "execution_count": 8,
     "metadata": {},
     "output_type": "execute_result"
    }
   ],
   "source": [
    "len(set(df['user_id'].values))"
   ]
  },
  {
   "cell_type": "markdown",
   "metadata": {
    "collapsed": true
   },
   "source": [
    "d. The proportion of users converted."
   ]
  },
  {
   "cell_type": "code",
   "execution_count": 9,
   "metadata": {},
   "outputs": [
    {
     "data": {
      "text/plain": [
       "0.11965919355605512"
      ]
     },
     "execution_count": 9,
     "metadata": {},
     "output_type": "execute_result"
    }
   ],
   "source": [
    "(df['converted']== 1).mean()"
   ]
  },
  {
   "cell_type": "markdown",
   "metadata": {
    "collapsed": true
   },
   "source": [
    "e. The number of times the `new_page` and `treatment` don't line up."
   ]
  },
  {
   "cell_type": "code",
   "execution_count": 10,
   "metadata": {},
   "outputs": [
    {
     "data": {
      "text/plain": [
       "149167"
      ]
     },
     "execution_count": 10,
     "metadata": {},
     "output_type": "execute_result"
    }
   ],
   "source": [
    "#Method 1\n",
    "np.count_nonzero((~((df['group']=='treatment') & (df['landing_page'] == 'new_page'))).values)"
   ]
  },
  {
   "cell_type": "code",
   "execution_count": 11,
   "metadata": {},
   "outputs": [
    {
     "data": {
      "text/plain": [
       "149167"
      ]
     },
     "execution_count": 11,
     "metadata": {},
     "output_type": "execute_result"
    }
   ],
   "source": [
    "#Method 2\n",
    "(len(df)- (df[(df['group'] == 'treatment') & (df['landing_page'] == 'new_page')].count()))['user_id']"
   ]
  },
  {
   "cell_type": "markdown",
   "metadata": {},
   "source": [
    "f. Do any of the rows have missing values?"
   ]
  },
  {
   "cell_type": "code",
   "execution_count": 12,
   "metadata": {},
   "outputs": [
    {
     "data": {
      "text/plain": [
       "user_id         False\n",
       "timestamp       False\n",
       "group           False\n",
       "landing_page    False\n",
       "converted       False\n",
       "dtype: bool"
      ]
     },
     "execution_count": 12,
     "metadata": {},
     "output_type": "execute_result"
    }
   ],
   "source": [
    "df.isnull().any()"
   ]
  },
  {
   "cell_type": "code",
   "execution_count": 13,
   "metadata": {},
   "outputs": [
    {
     "name": "stdout",
     "output_type": "stream",
     "text": [
      "No Missing values\n"
     ]
    }
   ],
   "source": [
    "print('No Missing values')"
   ]
  },
  {
   "cell_type": "markdown",
   "metadata": {},
   "source": [
    "`2.` For the rows where **treatment** is not aligned with **new_page** or **control** is not aligned with **old_page**, we cannot be sure if this row truly received the new or old page.  Use **Quiz 2** in the classroom to provide how we should handle these rows.  \n",
    "\n",
    "a. Now use the answer to the quiz to create a new dataset that meets the specifications from the quiz.  Store your new dataframe in **df2**."
   ]
  },
  {
   "cell_type": "code",
   "execution_count": 14,
   "metadata": {},
   "outputs": [
    {
     "data": {
      "text/plain": [
       "Index(['user_id', 'timestamp', 'group', 'landing_page', 'converted'], dtype='object')"
      ]
     },
     "execution_count": 14,
     "metadata": {},
     "output_type": "execute_result"
    }
   ],
   "source": [
    "df.columns"
   ]
  },
  {
   "cell_type": "code",
   "execution_count": 15,
   "metadata": {},
   "outputs": [],
   "source": [
    "df2 = (df[((df['group']== 'treatment') & (df['landing_page']=='new_page')) | ((df['group']== 'control') & (df['landing_page']=='old_page'))])"
   ]
  },
  {
   "cell_type": "code",
   "execution_count": 14,
   "metadata": {},
   "outputs": [
    {
     "data": {
      "text/plain": [
       "0"
      ]
     },
     "execution_count": 14,
     "metadata": {},
     "output_type": "execute_result"
    }
   ],
   "source": [
    "# Double Check all of the correct rows were removed - this should be 0\n",
    "df2[((df2['group'] == 'treatment') == (df2['landing_page'] == 'new_page')) == False].shape[0]"
   ]
  },
  {
   "cell_type": "markdown",
   "metadata": {},
   "source": [
    "`3.` Use **df2** and the cells below to answer questions for **Quiz3** in the classroom."
   ]
  },
  {
   "cell_type": "markdown",
   "metadata": {},
   "source": [
    "a. How many unique **user_id**s are in **df2**?"
   ]
  },
  {
   "cell_type": "code",
   "execution_count": 16,
   "metadata": {},
   "outputs": [
    {
     "data": {
      "text/plain": [
       "290584"
      ]
     },
     "execution_count": 16,
     "metadata": {},
     "output_type": "execute_result"
    }
   ],
   "source": [
    "len(set(df2['user_id'].values))"
   ]
  },
  {
   "cell_type": "markdown",
   "metadata": {
    "collapsed": true
   },
   "source": [
    "b. There is one **user_id** repeated in **df2**.  What is it?"
   ]
  },
  {
   "cell_type": "code",
   "execution_count": 17,
   "metadata": {},
   "outputs": [
    {
     "data": {
      "text/plain": [
       "1899    773192\n",
       "Name: user_id, dtype: int64"
      ]
     },
     "execution_count": 17,
     "metadata": {},
     "output_type": "execute_result"
    }
   ],
   "source": [
    "df2[df2['user_id'].duplicated(keep = 'last')]['user_id']"
   ]
  },
  {
   "cell_type": "code",
   "execution_count": 18,
   "metadata": {},
   "outputs": [
    {
     "name": "stdout",
     "output_type": "stream",
     "text": [
      "user id: 773192\n"
     ]
    }
   ],
   "source": [
    "print('user id: 773192')"
   ]
  },
  {
   "cell_type": "markdown",
   "metadata": {},
   "source": [
    "c. What is the row information for the repeat **user_id**? "
   ]
  },
  {
   "cell_type": "code",
   "execution_count": 18,
   "metadata": {},
   "outputs": [
    {
     "data": {
      "text/plain": [
       "user_id                             773192\n",
       "timestamp       2017-01-14 02:55:59.590927\n",
       "group                            treatment\n",
       "landing_page                      new_page\n",
       "converted                                0\n",
       "Name: 2893, dtype: object"
      ]
     },
     "execution_count": 18,
     "metadata": {},
     "output_type": "execute_result"
    }
   ],
   "source": [
    "df2.loc[2893]"
   ]
  },
  {
   "cell_type": "markdown",
   "metadata": {},
   "source": [
    "d. Remove **one** of the rows with a duplicate **user_id**, but keep your dataframe as **df2**."
   ]
  },
  {
   "cell_type": "code",
   "execution_count": 19,
   "metadata": {},
   "outputs": [
    {
     "name": "stderr",
     "output_type": "stream",
     "text": [
      "C:\\Users\\Hp\\anaconda3\\lib\\site-packages\\pandas\\core\\frame.py:4906: SettingWithCopyWarning: \n",
      "A value is trying to be set on a copy of a slice from a DataFrame\n",
      "\n",
      "See the caveats in the documentation: https://pandas.pydata.org/pandas-docs/stable/user_guide/indexing.html#returning-a-view-versus-a-copy\n",
      "  return super().drop(\n"
     ]
    }
   ],
   "source": [
    "df2.drop(2893, inplace = True)"
   ]
  },
  {
   "cell_type": "markdown",
   "metadata": {},
   "source": [
    "`4.` Use **df2** in the below cells to answer the quiz questions related to **Quiz 4** in the classroom.\n",
    "\n",
    "a. What is the probability of an individual converting regardless of the page they receive?"
   ]
  },
  {
   "cell_type": "code",
   "execution_count": 20,
   "metadata": {},
   "outputs": [
    {
     "data": {
      "text/plain": [
       "Index(['user_id', 'timestamp', 'group', 'landing_page', 'converted'], dtype='object')"
      ]
     },
     "execution_count": 20,
     "metadata": {},
     "output_type": "execute_result"
    }
   ],
   "source": [
    "df2.columns"
   ]
  },
  {
   "cell_type": "code",
   "execution_count": 21,
   "metadata": {},
   "outputs": [
    {
     "data": {
      "text/plain": [
       "0.11959708724499628"
      ]
     },
     "execution_count": 21,
     "metadata": {},
     "output_type": "execute_result"
    }
   ],
   "source": [
    "df2['converted'].mean()"
   ]
  },
  {
   "cell_type": "markdown",
   "metadata": {},
   "source": [
    "b. Given that an individual was in the `control` group, what is the probability they converted?"
   ]
  },
  {
   "cell_type": "code",
   "execution_count": 22,
   "metadata": {},
   "outputs": [
    {
     "data": {
      "text/plain": [
       "0.1203863045004612"
      ]
     },
     "execution_count": 22,
     "metadata": {},
     "output_type": "execute_result"
    }
   ],
   "source": [
    "control_convert= df2[df2['group']=='control']['converted'].mean()\n",
    "control_convert"
   ]
  },
  {
   "cell_type": "markdown",
   "metadata": {},
   "source": [
    "c. Given that an individual was in the `treatment` group, what is the probability they converted?"
   ]
  },
  {
   "cell_type": "code",
   "execution_count": 23,
   "metadata": {},
   "outputs": [
    {
     "data": {
      "text/plain": [
       "0.11880806551510564"
      ]
     },
     "execution_count": 23,
     "metadata": {},
     "output_type": "execute_result"
    }
   ],
   "source": [
    "treatment_convert = df2[df2['group']=='treatment']['converted'].mean()\n",
    "treatment_convert"
   ]
  },
  {
   "cell_type": "code",
   "execution_count": 24,
   "metadata": {},
   "outputs": [
    {
     "data": {
      "text/plain": [
       "-0.0015782389853555567"
      ]
     },
     "execution_count": 24,
     "metadata": {},
     "output_type": "execute_result"
    }
   ],
   "source": [
    "actual_diff = treatment_convert - control_convert\n",
    "actual_diff"
   ]
  },
  {
   "cell_type": "markdown",
   "metadata": {},
   "source": [
    "d. What is the probability that an individual received the new page?"
   ]
  },
  {
   "cell_type": "code",
   "execution_count": 25,
   "metadata": {},
   "outputs": [
    {
     "data": {
      "text/plain": [
       "0.5000619442226688"
      ]
     },
     "execution_count": 25,
     "metadata": {},
     "output_type": "execute_result"
    }
   ],
   "source": [
    "len(df2[df2['landing_page']== 'new_page'])/len(df2)"
   ]
  },
  {
   "cell_type": "markdown",
   "metadata": {},
   "source": [
    "e. Consider your results from a. through d. above, and explain below whether you think there is sufficient evidence to say that the new treatment page leads to more conversions."
   ]
  },
  {
   "cell_type": "markdown",
   "metadata": {},
   "source": [
    "Answer:\n",
    "In my opinion, we don't hold sufficient evidence to prove that the new treatment page leads to more conversions as new_page and old_page was received at an equal rate. However, both groups has equal conversion rates, which is about 12%. This means that 12% of control group converted to the new page and 12% of the treatment group converted to the old page, considering control group received  the old page and the treatment group recieved the new page."
   ]
  },
  {
   "cell_type": "markdown",
   "metadata": {},
   "source": [
    "<a id='ab_test'></a>\n",
    "### Part II - A/B Test\n",
    "\n",
    "Notice that because of the time stamp associated with each event, you could technically run a hypothesis test continuously as each observation was observed.  \n",
    "\n",
    "However, then the hard question is do you stop as soon as one page is considered significantly better than another or does it need to happen consistently for a certain amount of time?  How long do you run to render a decision that neither page is better than another?  \n",
    "\n",
    "These questions are the difficult parts associated with A/B tests in general.  \n",
    "\n",
    "\n",
    "`1.` For now, consider you need to make the decision just based on all the data provided.  If you want to assume that the old page is better unless the new page proves to be definitely better at a Type I error rate of 5%, what should your null and alternative hypotheses be?  You can state your hypothesis in terms of words or in terms of **$p_{old}$** and **$p_{new}$**, which are the converted rates for the old and new pages."
   ]
  },
  {
   "cell_type": "markdown",
   "metadata": {},
   "source": [
    "**$H_{0}$** : **$p_{new}$** <= **$p_{old}$**\n",
    "\n",
    "**$H_{A}$** : **$p_{old}$** > **$p_{new}$**"
   ]
  },
  {
   "cell_type": "markdown",
   "metadata": {},
   "source": [
    "`2.` Assume under the null hypothesis, $p_{new}$ and $p_{old}$ both have \"true\" success rates equal to the **converted** success rate regardless of page - that is $p_{new}$ and $p_{old}$ are equal. Furthermore, assume they are equal to the **converted** rate in **ab_data.csv** regardless of the page. <br><br>\n",
    "\n",
    "Use a sample size for each page equal to the ones in **ab_data.csv**.  <br><br>\n",
    "\n",
    "Perform the sampling distribution for the difference in **converted** between the two pages over 10,000 iterations of calculating an estimate from the null.  <br><br>\n",
    "\n",
    "Use the cells below to provide the necessary parts of this simulation.  If this doesn't make complete sense right now, don't worry - you are going to work through the problems below to complete this problem.  You can use **Quiz 5** in the classroom to make sure you are on the right track.<br><br>"
   ]
  },
  {
   "cell_type": "markdown",
   "metadata": {},
   "source": [
    "a. What is the **convert rate** for $p_{new}$ under the null? "
   ]
  },
  {
   "cell_type": "code",
   "execution_count": 26,
   "metadata": {},
   "outputs": [
    {
     "data": {
      "text/plain": [
       "0.11959708724499628"
      ]
     },
     "execution_count": 26,
     "metadata": {},
     "output_type": "execute_result"
    }
   ],
   "source": [
    "p_new= df2['converted'].mean()\n",
    "p_new"
   ]
  },
  {
   "cell_type": "markdown",
   "metadata": {},
   "source": [
    "b. What is the **convert rate** for $p_{old}$ under the null? <br><br>"
   ]
  },
  {
   "cell_type": "code",
   "execution_count": 27,
   "metadata": {},
   "outputs": [
    {
     "data": {
      "text/plain": [
       "0.11959708724499628"
      ]
     },
     "execution_count": 27,
     "metadata": {},
     "output_type": "execute_result"
    }
   ],
   "source": [
    "p_old =df2['converted'].mean()\n",
    "p_old"
   ]
  },
  {
   "cell_type": "code",
   "execution_count": 28,
   "metadata": {},
   "outputs": [
    {
     "data": {
      "text/plain": [
       "0.0"
      ]
     },
     "execution_count": 28,
     "metadata": {},
     "output_type": "execute_result"
    }
   ],
   "source": [
    "p_new - p_old"
   ]
  },
  {
   "cell_type": "markdown",
   "metadata": {},
   "source": [
    "c. What is $n_{new}$?"
   ]
  },
  {
   "cell_type": "code",
   "execution_count": 29,
   "metadata": {},
   "outputs": [
    {
     "name": "stderr",
     "output_type": "stream",
     "text": [
      "C:\\Users\\Hp\\AppData\\Local\\Temp/ipykernel_7068/2523608427.py:1: UserWarning: Boolean Series key will be reindexed to match DataFrame index.\n",
      "  n_new = df2[df['landing_page']=='new_page'].shape[0]\n"
     ]
    },
    {
     "data": {
      "text/plain": [
       "145310"
      ]
     },
     "execution_count": 29,
     "metadata": {},
     "output_type": "execute_result"
    }
   ],
   "source": [
    "n_new = df2[df['landing_page']=='new_page'].shape[0]\n",
    "n_new"
   ]
  },
  {
   "cell_type": "markdown",
   "metadata": {},
   "source": [
    "d. What is $n_{old}$?"
   ]
  },
  {
   "cell_type": "code",
   "execution_count": 30,
   "metadata": {},
   "outputs": [
    {
     "data": {
      "text/plain": [
       "145274"
      ]
     },
     "execution_count": 30,
     "metadata": {},
     "output_type": "execute_result"
    }
   ],
   "source": [
    "n_old = df2[df2['landing_page']=='old_page'].shape[0]\n",
    "n_old"
   ]
  },
  {
   "cell_type": "markdown",
   "metadata": {},
   "source": [
    "e. Simulate $n_{new}$ transactions with a convert rate of $p_{new}$ under the null.  Store these $n_{new}$ 1's and 0's in **new_page_converted**."
   ]
  },
  {
   "cell_type": "code",
   "execution_count": 31,
   "metadata": {},
   "outputs": [
    {
     "data": {
      "text/plain": [
       "array([0, 0, 0, ..., 0, 0, 0])"
      ]
     },
     "execution_count": 31,
     "metadata": {},
     "output_type": "execute_result"
    }
   ],
   "source": [
    "new_page_converted = np.random.binomial(1, p_new, n_new)\n",
    "new_page_converted"
   ]
  },
  {
   "cell_type": "markdown",
   "metadata": {},
   "source": [
    "f. Simulate $n_{old}$ transactions with a convert rate of $p_{old}$ under the null.  Store these $n_{old}$ 1's and 0's in **old_page_converted**."
   ]
  },
  {
   "cell_type": "code",
   "execution_count": 32,
   "metadata": {},
   "outputs": [
    {
     "data": {
      "text/plain": [
       "array([0, 0, 0, ..., 0, 0, 0])"
      ]
     },
     "execution_count": 32,
     "metadata": {},
     "output_type": "execute_result"
    }
   ],
   "source": [
    "old_page_converted = np.random.binomial(1,p_old,n_old)\n",
    "old_page_converted"
   ]
  },
  {
   "cell_type": "markdown",
   "metadata": {},
   "source": [
    "g. Find $p_{new}$ - $p_{old}$ for your simulated values from part (e) and (f)."
   ]
  },
  {
   "cell_type": "code",
   "execution_count": 33,
   "metadata": {},
   "outputs": [
    {
     "data": {
      "text/plain": [
       "-0.0017847623650517064"
      ]
     },
     "execution_count": 33,
     "metadata": {},
     "output_type": "execute_result"
    }
   ],
   "source": [
    "p_new_sample = new_page_converted.mean() \n",
    "p_old_sample  = old_page_converted.mean()\n",
    "obs_diff = p_new_sample - p_old_sample\n",
    "obs_diff"
   ]
  },
  {
   "cell_type": "markdown",
   "metadata": {},
   "source": [
    "h. Simulate 10,000 $p_{new}$ - $p_{old}$ values using this same process similarly to the one you calculated in parts **a. through g.** above.  Store all 10,000 values in a numpy array called **p_diffs**."
   ]
  },
  {
   "cell_type": "code",
   "execution_count": 34,
   "metadata": {},
   "outputs": [
    {
     "data": {
      "text/plain": [
       "145310"
      ]
     },
     "execution_count": 34,
     "metadata": {},
     "output_type": "execute_result"
    }
   ],
   "source": [
    "n_new"
   ]
  },
  {
   "cell_type": "code",
   "execution_count": 35,
   "metadata": {},
   "outputs": [],
   "source": [
    "p_diffs = []\n",
    "for _ in range(10000):\n",
    "    new_page_converted = np.random.binomial(1, p_new_sample,n_new)\n",
    "    old_page_converted = np.random.binomial(1,p_old_sample,n_old)\n",
    "    p_new= new_page_converted.mean()\n",
    "    p_old= old_page_converted.mean()\n",
    "    p_diffs.append(p_new - p_old)"
   ]
  },
  {
   "cell_type": "code",
   "execution_count": 36,
   "metadata": {},
   "outputs": [
    {
     "data": {
      "text/plain": [
       "[-0.0023838831054269483,\n",
       " -0.0006491054750702441,\n",
       " -0.0019979680550625822,\n",
       " -0.0019430139613861586,\n",
       " -0.001709079191670057,\n",
       " -0.0009246945219656272,\n",
       " -0.0024385029462104385,\n",
       " -0.00255583016453996,\n",
       " -0.00095883938345738,\n",
       " -0.0008488851510631695,\n",
       " -0.0029413427471352976,\n",
       " -0.0011034517942860589,\n",
       " -0.004668590497341654,\n",
       " -0.0011103029364191441,\n",
       " -0.0014199004150540762,\n",
       " -0.0017503310010802964,\n",
       " -0.0016332408294452566,\n",
       " -0.0031061572777512925,\n",
       " -0.0016881727532869484,\n",
       " -0.0011929907354051306,\n",
       " -0.002837920752328388,\n",
       " -0.0023489844695542134,\n",
       " -0.0020464291347054575,\n",
       " -0.0018120458521789645,\n",
       " -0.0022184631677855116,\n",
       " -0.003147417614021042,\n",
       " 0.0004037357130325242,\n",
       " -0.0023216515266417798,\n",
       " -0.003030312094038881,\n",
       " -0.00360840872536973,\n",
       " 1.863412506572515e-05,\n",
       " -0.001048434601849238,\n",
       " -0.00023616444873592046,\n",
       " -0.0028377161077000612,\n",
       " 8.03387439329839e-05,\n",
       " -0.0013167768603301183,\n",
       " -0.001495702964468923,\n",
       " -0.00020177742443397428,\n",
       " -0.0027000690989219533,\n",
       " -0.002575711674409578,\n",
       " 0.000335202121866926,\n",
       " -0.0006972851683492015,\n",
       " -0.0013580371965998816,\n",
       " -0.001688276780972997,\n",
       " 0.00010779788436621196,\n",
       " -0.0008419828477730096,\n",
       " -0.0017367804949134646,\n",
       " -0.000814411152794195,\n",
       " -0.0010549173836513631,\n",
       " -0.001633419893495025,\n",
       " 0.00027286310465188257,\n",
       " -0.0011033085430462442,\n",
       " -0.0016815450148730954,\n",
       " -0.0034847914322631013,\n",
       " -0.0021978295889068244,\n",
       " -0.001481782392599204,\n",
       " -9.156056476675167e-05,\n",
       " -0.0031338381165318674,\n",
       " -0.0006764895791397663,\n",
       " -0.0016058157964500691,\n",
       " -0.0019980908418395643,\n",
       " -0.0025212197365187816,\n",
       " -0.001998159056715673,\n",
       " -0.0006560555287736941,\n",
       " -0.0006559873138975852,\n",
       " -0.0009106852707569807,\n",
       " -0.0013924651498274793,\n",
       " -0.002004737339344337,\n",
       " -0.001013733789117205,\n",
       " -0.0023357085282636886,\n",
       " -0.002046227900820957,\n",
       " -0.0005322642877329947,\n",
       " -0.0032920590161720636,\n",
       " -0.0017366389490455353,\n",
       " -0.00177076164070257,\n",
       " -0.0030098302932595328,\n",
       " -0.0031337562586805368,\n",
       " -0.0014956159905018807,\n",
       " -0.002149566332404651,\n",
       " -0.0036571801826988937,\n",
       " -0.0022803076271487865,\n",
       " -0.00029799014900826204,\n",
       " -0.0022047642942631396,\n",
       " -0.0023561937397868493,\n",
       " -0.0020050715922372564,\n",
       " -0.0029823148755535184,\n",
       " -0.0029892325271907993,\n",
       " -0.0018192858191058564,\n",
       " -0.0017640742142721322,\n",
       " -0.001440724995585868,\n",
       " -0.0006835555981325875,\n",
       " -0.0015575064949065187,\n",
       " -0.000669461078328798,\n",
       " -0.0022321159962665066,\n",
       " -0.003808016158800484,\n",
       " -0.0015026479020566474,\n",
       " 5.282844234266726e-05,\n",
       " -0.0031681756850486242,\n",
       " -0.0011098527182368534,\n",
       " -0.003526022777210508,\n",
       " -0.002349320427819032,\n",
       " -0.0020600836685583795,\n",
       " -0.003216189957253021,\n",
       " -0.004372768633964713,\n",
       " -0.0021355963047497567,\n",
       " -0.0024176885979100837,\n",
       " 0.0008375098467581499,\n",
       " -0.0008556783105515831,\n",
       " -0.00331268577356314,\n",
       " -0.0023281615943943346,\n",
       " -0.002011941493461275,\n",
       " -0.00280342799496848,\n",
       " 0.00047965422773675603,\n",
       " -0.002500611738218625,\n",
       " -0.0023903505388819385,\n",
       " -0.0014197878605085035,\n",
       " -0.00357420929197709,\n",
       " -0.0015782099940332278,\n",
       " -0.002018990458735062,\n",
       " -0.00032575796175587923,\n",
       " -0.00296151758097217,\n",
       " -0.004007763432727268,\n",
       " -0.00117233839743551,\n",
       " -0.0018053754794675608,\n",
       " -0.003168121113147737,\n",
       " -0.0009657297491442313,\n",
       " 0.0004040819035287663,\n",
       " -0.002260030470997751,\n",
       " -0.0017089564048930611,\n",
       " 0.0015808644053996734,\n",
       " -0.002356030024084202,\n",
       " 0.001808265232156589,\n",
       " -0.003416155518783326,\n",
       " -0.001612702751393122,\n",
       " -0.00143379711171715,\n",
       " -0.002789539825164916,\n",
       " -0.0020187175992306405,\n",
       " -0.003629402137719867,\n",
       " -0.0013855645519092186,\n",
       " -0.002817019430060977,\n",
       " -0.0006629390729729345,\n",
       " -0.003154328444170726,\n",
       " -0.0037738201361516427,\n",
       " -0.0005872848909136141,\n",
       " -0.002872282196051776,\n",
       " -0.0012065258932248413,\n",
       " -0.0026176234627461464,\n",
       " -0.0007937093590394129,\n",
       " -0.004441491521411517,\n",
       " -0.0018809836164854904,\n",
       " -0.003650057886433286,\n",
       " -0.0008831408617286096,\n",
       " -0.0030990776157832495,\n",
       " -0.0014956671516589554,\n",
       " -0.0031132301182317246,\n",
       " -0.0021840249823265045,\n",
       " -0.0019158976007053602,\n",
       " -0.0011654923714181364,\n",
       " -0.0010688550092401022,\n",
       " -0.001626348758386506,\n",
       " -0.002700388003467752,\n",
       " -0.002424592606572157,\n",
       " -0.0003116003431916925,\n",
       " -0.0006902822481167775,\n",
       " -0.001055108385304454,\n",
       " -0.001743447456881056,\n",
       " -0.004372586159171132,\n",
       " 0.0007070226524275025,\n",
       " -0.0015025728656929277,\n",
       " -0.0015161728276449488,\n",
       " -0.003663901716567372,\n",
       " -0.001110318284766279,\n",
       " -0.0016335750823381762,\n",
       " -0.0015989936456393267,\n",
       " -0.0021495168766194755,\n",
       " -0.0009797748131628453,\n",
       " -0.0014612391984313577,\n",
       " 0.0010097161224003753,\n",
       " -0.002252875772665988,\n",
       " -0.002982348982991573,\n",
       " -0.00210118369986928,\n",
       " -0.0008004155445607702,\n",
       " -0.0012614100666532568,\n",
       " -0.00270699186667496,\n",
       " -0.0016264272054940243,\n",
       " 0.0006311075484670969,\n",
       " -0.003966317210920112,\n",
       " -0.001413180586557497,\n",
       " -0.004476074663482252,\n",
       " -0.00197059247785257,\n",
       " -0.0015437189420452052,\n",
       " -0.001640207936867727,\n",
       " -0.0020051091104191093,\n",
       " -0.0004497299722182463,\n",
       " -0.0011446285673325923,\n",
       " -0.0015785493630418451,\n",
       " -0.003023669007277921,\n",
       " -0.0002844242944943093,\n",
       " -0.0016539272748529177,\n",
       " -0.0021083332820853173,\n",
       " -0.0023697169600032514,\n",
       " -0.0028791657402510162,\n",
       " -0.0038633369074359825,\n",
       " -0.00113781494338136,\n",
       " -0.0002566974106723574,\n",
       " -0.0010071213990505007,\n",
       " 0.0003696982899706325,\n",
       " -0.0028791657402510162,\n",
       " -0.0021427578245691165,\n",
       " -2.2853025667096682e-05,\n",
       " -0.0012343244026667005,\n",
       " -0.0021976863376670097,\n",
       " -0.0025900108388416665,\n",
       " 0.0005623113300284865,\n",
       " -0.0008142576693229708,\n",
       " -0.0015026837148666011,\n",
       " -0.001757468645693025,\n",
       " -0.0007662792099285276,\n",
       " -0.004675393889061477,\n",
       " -0.0019432714725434591,\n",
       " -0.001089570445970106,\n",
       " -0.002011793126105735,\n",
       " -0.001351351475541357,\n",
       " -0.0027417336083326443,\n",
       " -0.002693277644805453,\n",
       " -0.0011101699174107527,\n",
       " -0.002637991003608023,\n",
       " -0.0024593872147588153,\n",
       " -0.0004013780363771313,\n",
       " -0.0017158996371089003,\n",
       " -0.003526140447871806,\n",
       " -0.0016267358778083996,\n",
       " 0.00032837656031238505,\n",
       " -0.0035259579730782115,\n",
       " 0.0007477031622503683,\n",
       " -0.0017848476336468494,\n",
       " -0.00041521675039551953,\n",
       " 0.00035608980115910127,\n",
       " -0.002748272667407542,\n",
       " -0.001674586434310149,\n",
       " -0.001027748156441563,\n",
       " -0.0032368337683631176,\n",
       " -0.0005662283798030798,\n",
       " -0.0012479448290815404,\n",
       " -0.0010552038861310065,\n",
       " -0.001970766425786641,\n",
       " -8.90175710312191e-06,\n",
       " -0.002686666960110634,\n",
       " -0.0034709731827075457,\n",
       " 0.0015055035473076211,\n",
       " -0.0029824154924957685,\n",
       " -0.003416058312584888,\n",
       " -0.003030428059328266,\n",
       " -0.0012615788984716159,\n",
       " -0.001041418038641606,\n",
       " 9.432070919118685e-05,\n",
       " -0.0014060258882257343,\n",
       " -0.004620228329269116,\n",
       " 8.739794143819424e-05,\n",
       " -0.002204460738064476,\n",
       " -0.001089432310846003,\n",
       " -0.0008762453799260606,\n",
       " -0.0033745899209430136,\n",
       " -0.0019633951452232568,\n",
       " -0.00012611983163086926,\n",
       " -0.0014266509402449112,\n",
       " -0.004462138743265426,\n",
       " -0.0012683754687038279,\n",
       " -0.0022871638853975695,\n",
       " -0.00022927067230527065,\n",
       " -0.0009795991598568615,\n",
       " -0.0006558560002610792,\n",
       " -0.0030168946068804547,\n",
       " -0.0011376716921415453,\n",
       " -0.0012135373403167754,\n",
       " 0.000995884229869598,\n",
       " -0.00020183881782247226,\n",
       " -0.0025694335372357796,\n",
       " -0.001619668153443693,\n",
       " -0.0022529405767982985,\n",
       " -0.002073862694560169,\n",
       " 0.0004246097493494777,\n",
       " -0.004090383016837132,\n",
       " -0.0034090980266500287,\n",
       " -0.0023286135179485246,\n",
       " -0.004207531171116871,\n",
       " -0.0025210628423037312,\n",
       " -0.0015025728656929277,\n",
       " -0.002885612709243174,\n",
       " -0.002541679367463384,\n",
       " -0.00015367958900634748,\n",
       " -0.0020737433185269716,\n",
       " -0.000986421310667604,\n",
       " -0.001405961084093424,\n",
       " -0.0011448911946055906,\n",
       " -0.0014681005727958663,\n",
       " -0.0009177853971878425,\n",
       " -0.003305621459942218,\n",
       " -0.001915672491614201,\n",
       " -0.0021771823670529156,\n",
       " -0.00496463917518164,\n",
       " -0.003677493151659883,\n",
       " -0.0020260019058269962,\n",
       " -0.002644988807724735,\n",
       " -0.002397249431428286,\n",
       " -0.000491024415926064,\n",
       " -0.003360647179238549,\n",
       " -0.0021151076824827975,\n",
       " -0.0013717173110313202,\n",
       " -0.0015505479143435585,\n",
       " 3.9126158076496775e-05,\n",
       " -0.0026106512392079784,\n",
       " -0.0022528570135750686,\n",
       " -0.003931926775874367,\n",
       " -0.003822039052984366,\n",
       " -0.0029342630851672546,\n",
       " -0.0012821562000775166,\n",
       " -0.001605684482813577,\n",
       " -0.0023490612112898185,\n",
       " -0.0027758221925516108,\n",
       " -0.0027069185356831393,\n",
       " -0.003457223148028099,\n",
       " -0.0008832397732989605,\n",
       " -0.0027618589863843274,\n",
       " -0.003002668773440159,\n",
       " -0.003718744961070136,\n",
       " -0.0018120850757327306,\n",
       " -0.0013786980614290123,\n",
       " -0.001935953058509035,\n",
       " -0.0021218633237893303,\n",
       " -0.002307831571714311,\n",
       " -0.0032781350335585463,\n",
       " -0.002438531937532795,\n",
       " -0.00223908480906089,\n",
       " -8.478275362548693e-05,\n",
       " -0.002390255038055386,\n",
       " -0.003250641785687264,\n",
       " -0.00044947587180474424,\n",
       " -0.003140629570648368,\n",
       " -0.0019567367101151617,\n",
       " -0.0012893245413845011,\n",
       " -0.0022252205144639575,\n",
       " -0.002858675412612144,\n",
       " -0.0011378746313979587,\n",
       " -0.0011307557458761497,\n",
       " -0.00032588586464857294,\n",
       " -0.0014127559489537367,\n",
       " -0.0009795070697741215,\n",
       " -0.0012133855622174367,\n",
       " -0.003539875134204132,\n",
       " -6.385755615144484e-05,\n",
       " -0.0017847470167045854,\n",
       " -0.0020877184622975636,\n",
       " 3.929840063865431e-05,\n",
       " -1.592684717029169e-05,\n",
       " -0.004207312883513337,\n",
       " -0.0024041261541399295,\n",
       " -0.001805414703021327,\n",
       " -0.0007318529620728154,\n",
       " -0.002177064696391645,\n",
       " -0.0025622771335321176,\n",
       " -0.0027207708926767493,\n",
       " -0.0018057029108728695,\n",
       " -0.0014338653265932588,\n",
       " 5.9662530756732224e-05,\n",
       " -9.844240359409284e-05,\n",
       " -0.0009380847231736239,\n",
       " -0.001929195711830603,\n",
       " -0.0036635214186331033,\n",
       " -0.002989268340000767,\n",
       " -0.0008489209638731232,\n",
       " -0.0033679775308762816,\n",
       " -0.0016677352921770638,\n",
       " -0.002273386564767693,\n",
       " -0.0033060273384550587,\n",
       " -0.0009934464007347599,\n",
       " -0.0019707101485138545,\n",
       " -0.0008417611494256627,\n",
       " -0.0033054594496114836,\n",
       " 0.0005414884548685939,\n",
       " -0.0006560725824927144,\n",
       " -0.0025555027331346514,\n",
       " -0.0016333141604370632,\n",
       " -0.002115273103557358,\n",
       " -0.0018607030495906562,\n",
       " -0.0019223872039950823,\n",
       " -0.0007524797194639055,\n",
       " -0.004076856385876931,\n",
       " -0.0021494640100904877,\n",
       " -0.003374739993670439,\n",
       " -0.002080594460660057,\n",
       " -0.0027346846430588434,\n",
       " -0.003691260240058364,\n",
       " 0.0006103051377700369,\n",
       " -0.0006284497263568251,\n",
       " -0.0008414149589294206,\n",
       " -0.0022528877102693107,\n",
       " -0.0010760540472413288,\n",
       " -0.00018107392530729294,\n",
       " -5.0295112381290585e-05,\n",
       " -0.0021629684712159564,\n",
       " -0.0014065289729370267,\n",
       " -0.004689259889030295,\n",
       " -9.834008127994343e-05,\n",
       " -0.0004842790068509406,\n",
       " -0.0005114993952178015,\n",
       " -0.000931035757899823,\n",
       " -0.002176986249284113,\n",
       " -0.0005390131075519305,\n",
       " -0.0028379463329069182,\n",
       " -0.001825872628594044,\n",
       " -0.0026795310208698186,\n",
       " -0.002108316228366311,\n",
       " 0.000266194437312392,\n",
       " -0.00286544981300961,\n",
       " -0.0012478612658583105,\n",
       " -0.0035125507181511945,\n",
       " -0.0014269135675179095,\n",
       " -0.002775931336353385,\n",
       " -0.0030852644823434056,\n",
       " -0.0009656768826152573,\n",
       " -0.0028999152844190745,\n",
       " 0.0010716816631687193,\n",
       " -0.0016060170303345972,\n",
       " -0.0024730707399340662,\n",
       " -4.3413273553963294e-05,\n",
       " -0.0011924910614376505,\n",
       " -0.000635215599894795,\n",
       " -0.001296196147980419,\n",
       " -0.0001809153257203433,\n",
       " 0.0009612959716831376,\n",
       " -0.0024111358958599505,\n",
       " -0.00149553413265055,\n",
       " -0.000924331277750351,\n",
       " -0.003477810681865423,\n",
       " -0.0009452752343153265,\n",
       " -0.002266283027593005,\n",
       " -0.0017640077047679364,\n",
       " -0.0018052441658310547,\n",
       " -0.002727662963735486,\n",
       " -0.0016951313338498947,\n",
       " -0.0019295163217483008,\n",
       " -0.0007593069863903457,\n",
       " -0.0018950610825702596,\n",
       " -0.004269196566430364,\n",
       " -0.002156383367099682,\n",
       " -0.0025832074471218713,\n",
       " -0.004764885079767259,\n",
       " -0.003546840536254689,\n",
       " -0.002555744895944817,\n",
       " -0.003931865382485869,\n",
       " -0.002638214407327269,\n",
       " -0.002810316655283418,\n",
       " -0.002569472760789532,\n",
       " 0.00028665747900080696,\n",
       " -0.0014611385814890937,\n",
       " -0.0003048122998190045,\n",
       " -0.0036772509888497174,\n",
       " -0.002142970996056953,\n",
       " -0.002328603285717115,\n",
       " -0.0025419726914306384,\n",
       " -0.0013783706300237036,\n",
       " -0.000931373421536541,\n",
       " -0.0007521591095461938,\n",
       " -0.001688268254113487,\n",
       " -0.001275233432324524,\n",
       " -0.0010342855101445753,\n",
       " -0.0031818302189015324,\n",
       " 0.0007893113943882729,\n",
       " -0.003037727714271743,\n",
       " -0.0007454085843553726,\n",
       " -0.0030379715824538217,\n",
       " 0.0009269242957283264,\n",
       " -0.0018463936529271446,\n",
       " -0.0013583339313109344,\n",
       " 0.00017023240240779391,\n",
       " -0.002610710927224563,\n",
       " -0.0009384428512731746,\n",
       " -0.003643155583143126,\n",
       " -0.0022043976393040787,\n",
       " -0.0028308837246578955,\n",
       " -0.0006080787747511501,\n",
       " -0.002824013823433877,\n",
       " -0.0028238739829378745,\n",
       " -0.0018259817723958044,\n",
       " -0.003147680241294068,\n",
       " -0.0002772610693030364,\n",
       " -0.0023764743066816835,\n",
       " -0.0032370571720823776,\n",
       " -0.0010341115622105046,\n",
       " -0.003636403352580392,\n",
       " -0.0015439525779958885,\n",
       " -0.001509700278074247,\n",
       " -0.0008212435358363607,\n",
       " -0.0008145868061001649,\n",
       " -0.0003324777902524584,\n",
       " -0.00037386432404301617,\n",
       " -0.0019774350931261453,\n",
       " -0.0031682234354619004,\n",
       " -0.0018878125887838437,\n",
       " -0.0013026277686254417,\n",
       " -0.0022250670309927195,\n",
       " -0.0015987276076225299,\n",
       " -0.0024524235180801573,\n",
       " -0.0013856873386862006,\n",
       " -0.002886081686516398,\n",
       " -0.0030510565220912417,\n",
       " -0.0013371358743324707,\n",
       " -0.0027412578095717954,\n",
       " -0.0006424828527721166,\n",
       " -0.0018811831449981053,\n",
       " -0.001798459533202179,\n",
       " -0.0013649190354272228,\n",
       " -0.002424631830125909,\n",
       " -0.00240405964463572,\n",
       " -0.0022390114780690695,\n",
       " -0.0009793689346500184,\n",
       " -0.0021632788489022448,\n",
       " -0.002032549491761418,\n",
       " -0.0012893415951035214,\n",
       " -0.0010003180073306916,\n",
       " -0.0008142525532072453,\n",
       " -0.0020943615490585377,\n",
       " -0.0013648081862535355,\n",
       " -0.0014542516265460687,\n",
       " -0.0017089188867112082,\n",
       " -0.0012684215137452048,\n",
       " -0.0014889967789475655,\n",
       " -0.0025005179427639856,\n",
       " -0.0015233428743238325,\n",
       " -0.0017915998642095837,\n",
       " -0.0009244966988249254,\n",
       " -0.001640368241826562,\n",
       " -0.00038063531369667003,\n",
       " -0.00016702203980108188,\n",
       " -0.0024457190379306992,\n",
       " -0.004503237069204427,\n",
       " -0.0013646393544351765,\n",
       " -3.639671034631753e-05,\n",
       " 0.00040400857253695965,\n",
       " -0.00037385579718350603,\n",
       " -0.0015301223908369965,\n",
       " -0.0014475624947437177,\n",
       " -0.0010345310836985533,\n",
       " -0.0005046158510185611,\n",
       " -0.0017639258469166058,\n",
       " -0.0021906987657817067,\n",
       " -0.0017846753910846641,\n",
       " -0.00239022434136113,\n",
       " -0.003354227496196835,\n",
       " -0.0022321773896550046,\n",
       " -0.00027067596518676185,\n",
       " -0.004138526897306136,\n",
       " -0.0027345567401661497,\n",
       " -0.002163386287332106,\n",
       " -0.0017092122106784624,\n",
       " -0.00023597856319854116,\n",
       " -0.004565151448815696,\n",
       " -0.0015232422573815685,\n",
       " -0.001674617131004405,\n",
       " -0.0028171609759289062,\n",
       " -0.003436436085678188,\n",
       " -0.002789560289627735,\n",
       " -0.003512103910712716,\n",
       " -0.0035743491324730925,\n",
       " -0.003416341404320719,\n",
       " -0.0026382041750958457,\n",
       " -0.002046258597515213,\n",
       " -0.0007387654975943986,\n",
       " -0.004427577771029409,\n",
       " -0.000614866818123852,\n",
       " -2.9842302924298902e-05,\n",
       " -0.0021287895022861353,\n",
       " -0.0017228872089941893,\n",
       " -0.001846750075654796,\n",
       " -0.00508827011126349,\n",
       " -0.0010211016589368044,\n",
       " -0.00044950997924281255,\n",
       " 0.0005623010977970633,\n",
       " -0.0014960815570313063,\n",
       " -0.003285149891394293,\n",
       " 0.00046602356909047904,\n",
       " -0.0018879711883707934,\n",
       " -0.0005386004075514789,\n",
       " -0.002080427334213597,\n",
       " -0.0020531319094830303,\n",
       " -0.0017571019907339502,\n",
       " -0.002314641784921745,\n",
       " -0.0013373047061508436,\n",
       " -0.0037876179212443656,\n",
       " -0.0010618554997514768,\n",
       " -0.002940955627713404,\n",
       " -0.0005250533121284595,\n",
       " -0.000889985182374084,\n",
       " -0.0025348725649997628,\n",
       " -0.00014674999976575787,\n",
       " -0.002335404972065025,\n",
       " -0.0017640247584869567,\n",
       " -0.001234257893162491,\n",
       " -0.0017297161812925427,\n",
       " -0.001227357295244244,\n",
       " -0.0012203407320365844,\n",
       " 0.00117493482615727,\n",
       " -0.0021288918246002986,\n",
       " -0.004069807420603144,\n",
       " 0.00010113262777050602,\n",
       " -0.0011171472570646324,\n",
       " -0.0017780630010179599,\n",
       " -0.00016722497905748146,\n",
       " 0.0006105933456215795,\n",
       " -0.0009244336000645281,\n",
       " -0.003367904199884475,\n",
       " -0.0008143190627114688,\n",
       " -0.0001465095423274776,\n",
       " -0.001543971337086808,\n",
       " -0.002645309417642433,\n",
       " -0.002011994359990263,\n",
       " -0.001110134104600785,\n",
       " -0.0015301002210022646,\n",
       " -0.002418150753695697,\n",
       " -0.0011721371635509958,\n",
       " -0.0023353384625608292,\n",
       " -0.001137915560323624,\n",
       " -0.0026447705201212007,\n",
       " -0.004035536361590569,\n",
       " -0.0017089819854715915,\n",
       " -0.002576245455815099,\n",
       " -0.004152166082811909,\n",
       " -0.001571323039090175,\n",
       " -0.0007112569013759951,\n",
       " 5.2942702260153074e-05,\n",
       " -0.001606075012979269,\n",
       " -0.0028655231440014306,\n",
       " -0.002486520629158648,\n",
       " -0.0017916493199947453,\n",
       " 0.00034892487059592914,\n",
       " -0.001220321972945665,\n",
       " -0.0026107126325964763,\n",
       " -0.0008764295600915406,\n",
       " -0.002796672353661933,\n",
       " -0.0005803706500201317,\n",
       " -0.001578187824198482,\n",
       " -0.001826109675288498,\n",
       " 8.011022409802615e-05,\n",
       " -0.0017572793494118333,\n",
       " -0.0010346146469217832,\n",
       " 6.656483404689217e-05,\n",
       " -0.004702953646436955,\n",
       " -0.0010345651911366077,\n",
       " -0.0012754159071181048,\n",
       " -0.00013292492872259143,\n",
       " -0.0024385097676980494,\n",
       " -0.0017916953650361223,\n",
       " -0.0003116071646793034,\n",
       " -0.0020323636062240247,\n",
       " -0.0018328721380826557,\n",
       " -0.0046342375804777625,\n",
       " -0.0017505390564524215,\n",
       " -0.00031862713863076153,\n",
       " -0.0016746034880291694,\n",
       " -0.0017642225816276724,\n",
       " -0.0015714560580985804,\n",
       " -0.0028036394610844034,\n",
       " -0.0015643798068743359,\n",
       " -0.0037808281724997783,\n",
       " -0.0013442922780361327,\n",
       " -0.003595076506806419,\n",
       " -0.0035400115639563356,\n",
       " -0.0021630298646044543,\n",
       " -0.0017643129663384993,\n",
       " -0.00327161984969028,\n",
       " -0.00130987967315567,\n",
       " -0.0019910504034252874,\n",
       " -0.001406061701035688,\n",
       " -0.004599809627250165,\n",
       " -0.0014614353162001603,\n",
       " -0.0013718332763206914,\n",
       " -0.0018604523599209666,\n",
       " -0.0017089512887773495,\n",
       " -0.0036639818690468035,\n",
       " -0.0023008627589199554,\n",
       " -0.002837929279187884,\n",
       " -0.002121876966764552,\n",
       " -0.002252768334236127,\n",
       " -0.0029548796103269215,\n",
       " -0.0026105693813566477,\n",
       " -0.0016883040669234545,\n",
       " -0.001433520841468916,\n",
       " -0.0027138242497171117,\n",
       " -0.0025350772096280894,\n",
       " -0.000690524410926957,\n",
       " -0.0012685477112659854,\n",
       " -0.0023765834504834576,\n",
       " -0.0011788518759318911,\n",
       " -0.0036017554063773466,\n",
       " -0.0018397488607942852,\n",
       " -0.002011948314948886,\n",
       " -0.0013031018620143914,\n",
       " -0.0021633112509684,\n",
       " 0.00021823985312457994,\n",
       " -0.0008690668063876666,\n",
       " -0.0012204720456730905,\n",
       " 0.00041775519647259396,\n",
       " -0.001660993293845739,\n",
       " -0.0014819785103680067,\n",
       " -0.0030099104457389503,\n",
       " -0.0033950273820528842,\n",
       " -0.003402359439062516,\n",
       " -0.0004838697175943152,\n",
       " -0.0012339168187819743,\n",
       " -0.0014334236352704782,\n",
       " -0.001509287578073809,\n",
       " -0.002080372762312724,\n",
       " -0.0021082838263001558,\n",
       " -0.0023697851748793602,\n",
       " -0.004152473049754385,\n",
       " -0.0011375574322240595,\n",
       " -0.0006491822168058631,\n",
       " -0.0019085996511337827,\n",
       " -0.0025900415355359224,\n",
       " 1.1619267229978636e-05,\n",
       " -0.00193623615024488,\n",
       " -0.0004976385113646814,\n",
       " -0.003298980078553171,\n",
       " -0.0007251211959729276,\n",
       " -0.0007798774665086355,\n",
       " -0.0015510032486415748,\n",
       " -0.0011445518255969733,\n",
       " -0.0002086251558232749,\n",
       " -0.0007315477005022386,\n",
       " -0.003925230822584419,\n",
       " -0.0005941275061871892,\n",
       " 0.0011953774033828662,\n",
       " -0.0026241267090111042,\n",
       " 0.0006861417946229381,\n",
       " -0.0016882017446092912,\n",
       " -0.0021151162093423076,\n",
       " -0.002610402254910188,\n",
       " -0.0003395728005676224,\n",
       " -0.0016955150425279897,\n",
       " -0.0032852777942869865,\n",
       " -0.0006287004160265147,\n",
       " 0.0005622721064747205,\n",
       " -0.0016747058103433327,\n",
       " -0.004007632119090762,\n",
       " -0.0016470471413974896,\n",
       " -0.0003460896898077881,\n",
       " -0.0006351422689029607,\n",
       " -0.0030718333522097435,\n",
       " -0.002025660831446466,\n",
       " -0.002748340882283651,\n",
       " -0.0020395728764566745,\n",
       " -0.0027757215756093606,\n",
       " -0.004186616205874252,\n",
       " -0.0017779350981252662,\n",
       " -0.0023905654157416606,\n",
       " -0.004379561793453113,\n",
       " 2.5168068024911117e-05,\n",
       " -0.0013648115969973479,\n",
       " 0.00039056721017187435,\n",
       " -0.0017915060687549306,\n",
       " -0.0012199911307965577,\n",
       " -0.0010691551546949674,\n",
       " -0.0025554055269361997,\n",
       " -0.0007868957350881806,\n",
       " -0.0034777441723611996,\n",
       " -0.001337582681770963,\n",
       " -0.0011582200024251033,\n",
       " -0.0019225116961439775,\n",
       " -0.0029481239690203748,\n",
       " -0.0022460161036733928,\n",
       " -0.0005046311993656821,\n",
       " -0.003464202193053878,\n",
       " -0.0008280298738371494,\n",
       " -0.0019775698175064638,\n",
       " -0.001653968203778583,\n",
       " -0.002872038327869697,\n",
       " -0.002541999977381082,\n",
       " -0.003463934449665168,\n",
       " 0.0001285678929971168,\n",
       " -0.0007525718095466455,\n",
       " -0.0014611812157866721,\n",
       " -0.0019295504291863413,\n",
       " -5.014162891005258e-05,\n",
       " -0.0008693908270491629,\n",
       " -0.002686283251432553,\n",
       " -0.005274352619105943,\n",
       " -0.0012204362328631368,\n",
       " -0.001716065058183447,\n",
       " -0.003863517676857664,\n",
       " -0.003863323264460747,\n",
       " -0.0015781588328761254,\n",
       " 2.5534722983985847e-05,\n",
       " -0.0010001253003056876,\n",
       " -0.001770915124173808,\n",
       " -0.0016331794360567586,\n",
       " -0.0032641786488788738,\n",
       " -7.77576635583449e-05,\n",
       " -0.0006629117870224771,\n",
       " -0.003870176111965745,\n",
       " -0.000518422162970808,\n",
       " -0.002177156786474385,\n",
       " -0.0014749687686479718,\n",
       " -0.0011654872553024248,\n",
       " -0.0015986679196059311,\n",
       " -0.002004969269923093,\n",
       " -0.0019981999856413385,\n",
       " -0.0022115062925944645,\n",
       " -0.00022942415577649478,\n",
       " -0.0005046499584566294,\n",
       " -0.00015372904479153682,\n",
       " -0.0008212350089768505,\n",
       " -2.305425955159701e-05,\n",
       " -0.0006698891266763707,\n",
       " -0.001819221014973546,\n",
       " -0.001832943763702563,\n",
       " -0.0035878314237638292,\n",
       " 0.00023187903863036707,\n",
       " -0.0031131823678184484,\n",
       " 0.0002735060298591774,\n",
       " -0.001887921732585618,\n",
       " -0.00024964844539855646,\n",
       " -0.0014405254670732531,\n",
       " -0.0014749568310446631,\n",
       " -0.0030442343712804992,\n",
       " 0.0007409816283818899,\n",
       " -0.0020808383288421356,\n",
       " -0.0011380127665220757,\n",
       " -0.00032549874522666555,\n",
       " -0.0016196732695593907,\n",
       " -0.0005733353277215525,\n",
       " -0.003574055808505852,\n",
       " -0.0015987804741515038,\n",
       " -0.002486645121307543,\n",
       " -0.0017434133494430015,\n",
       " -0.0030992566798330318,\n",
       " -0.0019086269370842124,\n",
       " -0.001956677022098563,\n",
       " -0.0005730010748286329,\n",
       " -0.0010277617994167987,\n",
       " -0.0011378490508194283,\n",
       " -0.002066726755319326,\n",
       " -0.004118041685782989,\n",
       " -0.002775907461146754,\n",
       " -0.0019637686216699424,\n",
       " -0.0011656083367075076,\n",
       " -0.001227272026649101,\n",
       " -0.002438606973896515,\n",
       " -0.00195695499771871,\n",
       " -0.002204609105420016,\n",
       " -0.0015713059853711547,\n",
       " -0.001681282387600097,\n",
       " -0.0022391325594741662,\n",
       " -0.0016128016629634728,\n",
       " -0.0026241829862838767,\n",
       " -0.003636188475720656,\n",
       " -0.0005734990434242138,\n",
       " -0.001619545366666697,\n",
       " -0.0016883279421300856,\n",
       " -0.001344416770185028,\n",
       " -0.0013855560250497084,\n",
       " -0.002183782819516311,\n",
       " -0.0024663611436688965,\n",
       " -0.003195764433746459,\n",
       " -0.0007317301752958194,\n",
       " -0.0013440893387797193,\n",
       " -0.002142585582006959,\n",
       " -0.0014337919956014383,\n",
       " -0.0020670695350717694,\n",
       " -0.002707230618741313,\n",
       " -0.0008209826139352477,\n",
       " -0.002232243899159214,\n",
       " -0.0012823727823091519,\n",
       " 0.0006649897826858514,\n",
       " -0.0027759364524690966,\n",
       " -0.0012340788291127225,\n",
       " -0.003952729186571413,\n",
       " -0.0024798451403315463,\n",
       " -0.0019087838312992628,\n",
       " -0.0015093336231151722,\n",
       " -0.002293948518026459,\n",
       " -0.0017162031933075639,\n",
       " -0.0034986915396699875,\n",
       " -0.002727541882330403,\n",
       " -0.0014334799125432646,\n",
       " -0.0008694198183715057,\n",
       " -0.0007935047144111002,\n",
       " -0.0017160156023982714,\n",
       " -0.0007525939793813774,\n",
       " -0.0016680610182104733,\n",
       " -0.003305590763247976,\n",
       " -0.0011926684201155335,\n",
       " -0.002610770615241148,\n",
       " -0.002404260878520234,\n",
       " -0.0027965461561411387,\n",
       " -0.0032436985534714385,\n",
       " -0.0021082599510935107,\n",
       " -0.0015576753267248777,\n",
       " 8.721376127270031e-05,\n",
       " -0.002837844010592769,\n",
       " -0.001942841718824001,\n",
       " 0.00046568761082566024,\n",
       " -0.002707123180311452,\n",
       " -0.0024659075147428072,\n",
       " -0.0029549120123930767,\n",
       " -0.0002427819549183502,\n",
       " -0.0011793805412217,\n",
       " -0.0012823761930529504,\n",
       " -0.0022596228871130247,\n",
       " -0.0022113920326769926,\n",
       " -0.0009035408046566273,\n",
       " -0.001371838392436417,\n",
       " -0.002301004304787871,\n",
       " -0.0024520773275839153,\n",
       " -0.002335403266693112,\n",
       " -0.00014681139315425584,\n",
       " -0.00036018591498347685,\n",
       " -0.001750342938683619,\n",
       " 0.0010715963945735901,\n",
       " -0.003154551847889972,\n",
       " -0.0031887410490512164,\n",
       " -0.001977672139820613,\n",
       " -0.0005180947315654993,\n",
       " -0.0009037949050701294,\n",
       " -0.002954569232640633,\n",
       " -0.0030514214716784033,\n",
       " -0.001867375127673973,\n",
       " -0.0012410612848823138,\n",
       " -0.0023833459132776152,\n",
       " -0.0009866037854611986,\n",
       " -0.0026522168370483046,\n",
       " -0.0006699812167591107,\n",
       " -0.0029615823851044665,\n",
       " -0.0038908335660510773,\n",
       " -0.0009312540455033574,\n",
       " -0.001901898581728123,\n",
       " -0.003643322709589586,\n",
       " -0.0010619714650408618,\n",
       " -0.001006908227562664,\n",
       " -0.0031405732933755676,\n",
       " -0.0004219740970739516,\n",
       " -0.0026037404090582944,\n",
       " -0.0023973005925853746,\n",
       " -0.0031067098182477465,\n",
       " -0.001165105251996229,\n",
       " -0.002562541466177029,\n",
       " -0.002493433164680231,\n",
       " -0.0034433588534311665,\n",
       " -0.0010828335637544928,\n",
       " 5.9575556789689954e-05,\n",
       " -0.0015646594878663822,\n",
       " -0.0019223906147388808,\n",
       " 0.0014432770846381643,\n",
       " -0.002948077923978998,\n",
       " -0.00016059382989984383,\n",
       " -0.0017983538001442173,\n",
       " -0.0014336623873368315,\n",
       " -0.00017415627367001196,\n",
       " -0.0012824392918133476,\n",
       " -0.0012203287944332758,\n",
       " -0.002149460599346689,\n",
       " 0.000135403686783081,\n",
       " -0.0023629851939033497,\n",
       " -0.00228023429615698,\n",
       " -0.0008280776242504118,\n",
       " -0.0011926752416031444,\n",
       " -0.0011652416817484468,\n",
       " -0.0013994834184070243,\n",
       " -0.0017296326180693128,\n",
       " -0.0015508872833522036,\n",
       " -0.0004977374229350462,\n",
       " -0.0006080838908668618,\n",
       " -0.0021562878662731294,\n",
       " -0.005439426366251138,\n",
       " -0.001248202340238841,\n",
       " -0.001254722640222819,\n",
       " -0.002376817086434113,\n",
       " -0.0003463386741055785,\n",
       " -0.0032577726088123815,\n",
       " -0.001186044092445493,\n",
       " -0.0011719308135507839,\n",
       " -0.002734698286034065,\n",
       " -0.002479655844050341,\n",
       " -0.0033745592242487576,\n",
       " -0.0023423055699832995,\n",
       " -0.0028239967697148566,\n",
       " -5.700129790266184e-05,\n",
       " -0.002775685762799407,\n",
       " -0.0028170467160114204,\n",
       " -0.0032164082448565556,\n",
       " -0.002851643501057377,\n",
       " -0.0017092377912570067,\n",
       " 0.00023183128821709087,\n",
       " -0.001743425287046324,\n",
       " -0.0026519763796100243,\n",
       " -0.0012135168758539566,\n",
       " -0.0014475232711899655,\n",
       " -0.0013649872503033178,\n",
       " -0.0036294311290422238,\n",
       " -0.002603851258231968,\n",
       " ...]"
      ]
     },
     "execution_count": 36,
     "metadata": {},
     "output_type": "execute_result"
    }
   ],
   "source": [
    "p_diffs"
   ]
  },
  {
   "cell_type": "markdown",
   "metadata": {},
   "source": [
    "i. Plot a histogram of the **p_diffs**.  Does this plot look like what you expected?  Use the matching problem in the classroom to assure you fully understand what was computed here."
   ]
  },
  {
   "cell_type": "code",
   "execution_count": 37,
   "metadata": {},
   "outputs": [
    {
     "data": {
      "image/png": "[encoded data removed]",
      "text/plain": [
       "<Figure size 432x288 with 1 Axes>"
      ]
     },
     "metadata": {
      "needs_background": "light"
     },
     "output_type": "display_data"
    }
   ],
   "source": [
    "plt.hist(p_diffs)\n",
    "plt.show()"
   ]
  },
  {
   "cell_type": "markdown",
   "metadata": {},
   "source": [
    "j. What proportion of the **p_diffs** are greater than the actual difference observed in **ab_data.csv**?"
   ]
  },
  {
   "cell_type": "code",
   "execution_count": 38,
   "metadata": {},
   "outputs": [],
   "source": [
    "greater_differences = []"
   ]
  },
  {
   "cell_type": "code",
   "execution_count": 39,
   "metadata": {},
   "outputs": [],
   "source": [
    "for i in  range(len(p_diffs)):\n",
    "    if p_diffs[i] > actual_diff:\n",
    "        greater_differences.append(p_diffs[i])"
   ]
  },
  {
   "cell_type": "code",
   "execution_count": 40,
   "metadata": {},
   "outputs": [
    {
     "data": {
      "text/plain": [
       "0.4352"
      ]
     },
     "execution_count": 40,
     "metadata": {},
     "output_type": "execute_result"
    }
   ],
   "source": [
    "len(greater_differences)/len(p_diffs)"
   ]
  },
  {
   "cell_type": "markdown",
   "metadata": {},
   "source": [
    "k. In words, explain what you just computed in part **j.**  What is this value called in scientific studies?  What does this value mean in terms of whether or not there is a difference between the new and old pages?"
   ]
  },
  {
   "cell_type": "markdown",
   "metadata": {},
   "source": [
    "This value is called the p-value.\n",
    "This means that we cant reject the null hypothesis, that the old page is better than the new page."
   ]
  },
  {
   "cell_type": "code",
   "execution_count": 41,
   "metadata": {},
   "outputs": [
    {
     "data": {
      "text/plain": [
       "<matplotlib.lines.Line2D at 0x1f86bbbbb20>"
      ]
     },
     "execution_count": 41,
     "metadata": {},
     "output_type": "execute_result"
    },
    {
     "data": {
      "image/png": "[encoded data removed]",
      "text/plain": [
       "<Figure size 432x288 with 1 Axes>"
      ]
     },
     "metadata": {
      "needs_background": "light"
     },
     "output_type": "display_data"
    }
   ],
   "source": [
    "null_vals = np.random.normal(0, np.std(p_diffs),10000)\n",
    "plt.hist(null_vals)\n",
    "plt.axvline(actual_diff,color = 'red')"
   ]
  },
  {
   "cell_type": "code",
   "execution_count": 42,
   "metadata": {},
   "outputs": [
    {
     "data": {
      "text/plain": [
       "0.9022"
      ]
     },
     "execution_count": 42,
     "metadata": {},
     "output_type": "execute_result"
    }
   ],
   "source": [
    "p_value = (null_vals > actual_diff).mean()\n",
    "p_value"
   ]
  },
  {
   "cell_type": "markdown",
   "metadata": {},
   "source": [
    "l. We could also use a built-in to achieve similar results.  Though using the built-in might be easier to code, the above portions are a walkthrough of the ideas that are critical to correctly thinking about statistical significance. Fill in the below to calculate the number of conversions for each page, as well as the number of individuals who received each page. Let `n_old` and `n_new` refer the the number of rows associated with the old page and new pages, respectively."
   ]
  },
  {
   "cell_type": "code",
   "execution_count": 43,
   "metadata": {},
   "outputs": [],
   "source": [
    "import statsmodels.api as sm\n",
    "\n",
    "convert_old = df2.query('landing_page == \"old_page\"').converted.sum()\n",
    "convert_new = df2.query('landing_page == \"new_page\"').converted.sum()\n",
    "n_old = df2.query('landing_page == \"old_page\"')['user_id'].nunique()\n",
    "n_new = df2.query('landing_page == \"new_page\"')['user_id'].nunique()"
   ]
  },
  {
   "cell_type": "markdown",
   "metadata": {},
   "source": [
    "m. Now use `stats.proportions_ztest` to compute your test statistic and p-value.  [Here](http://knowledgetack.com/python/statsmodels/proportions_ztest/) is a helpful link on using the built in."
   ]
  },
  {
   "cell_type": "code",
   "execution_count": 44,
   "metadata": {},
   "outputs": [],
   "source": [
    "z_score, p_value = sm.stats.proportions_ztest([convert_new, convert_old], [n_new, n_old], alternative = 'larger')"
   ]
  },
  {
   "cell_type": "code",
   "execution_count": 45,
   "metadata": {},
   "outputs": [
    {
     "data": {
      "text/plain": [
       "(-1.3109241984234394, 0.9050583127590245)"
      ]
     },
     "execution_count": 45,
     "metadata": {},
     "output_type": "execute_result"
    }
   ],
   "source": [
    "z_score, p_value"
   ]
  },
  {
   "cell_type": "markdown",
   "metadata": {},
   "source": [
    "n. What do the z-score and p-value you computed in the previous question mean for the conversion rates of the old and new pages?  Do they agree with the findings in parts **j.** and **k.**?"
   ]
  },
  {
   "cell_type": "code",
   "execution_count": 46,
   "metadata": {},
   "outputs": [],
   "source": [
    "from scipy import stats"
   ]
  },
  {
   "cell_type": "code",
   "execution_count": 47,
   "metadata": {},
   "outputs": [
    {
     "data": {
      "text/plain": [
       "1.959963984540054"
      ]
     },
     "execution_count": 47,
     "metadata": {},
     "output_type": "execute_result"
    }
   ],
   "source": [
    "#critical value\n",
    "stats.norm.ppf(1-(0.05/2))"
   ]
  },
  {
   "cell_type": "markdown",
   "metadata": {},
   "source": [
    "The z-score: -1.31, did not surpass the critical value: 1.959. This means that we failed to reject the null hypothesis, which shows that the old page is better than the new page. "
   ]
  },
  {
   "cell_type": "markdown",
   "metadata": {},
   "source": [
    "<a id='regression'></a>\n",
    "### Part III - A regression approach\n",
    "\n",
    "`1.` In this final part, you will see that the result you acheived in the previous A/B test can also be acheived by performing regression.<br><br>\n",
    "\n",
    "a. Since each row is either a conversion or no conversion, what type of regression should you be performing in this case?"
   ]
  },
  {
   "cell_type": "markdown",
   "metadata": {},
   "source": [
    "Logistic Regression because we only need two categroical outputs."
   ]
  },
  {
   "cell_type": "markdown",
   "metadata": {},
   "source": [
    "b. The goal is to use **statsmodels** to fit the regression model you specified in part **a.** to see if there is a significant difference in conversion based on which page a customer receives.  However, you first need to create a column for the intercept, and create a dummy variable column for which page each user received.  Add an **intercept** column, as well as an **ab_page** column, which is 1 when an individual receives the **treatment** and 0 if **control**."
   ]
  },
  {
   "cell_type": "code",
   "execution_count": 48,
   "metadata": {},
   "outputs": [
    {
     "name": "stderr",
     "output_type": "stream",
     "text": [
      "C:\\Users\\Hp\\AppData\\Local\\Temp/ipykernel_7068/1057108244.py:1: SettingWithCopyWarning: \n",
      "A value is trying to be set on a copy of a slice from a DataFrame.\n",
      "Try using .loc[row_indexer,col_indexer] = value instead\n",
      "\n",
      "See the caveats in the documentation: https://pandas.pydata.org/pandas-docs/stable/user_guide/indexing.html#returning-a-view-versus-a-copy\n",
      "  df2['intercept'] = 1\n",
      "C:\\Users\\Hp\\anaconda3\\lib\\site-packages\\pandas\\core\\frame.py:3641: SettingWithCopyWarning: \n",
      "A value is trying to be set on a copy of a slice from a DataFrame.\n",
      "Try using .loc[row_indexer,col_indexer] = value instead\n",
      "\n",
      "See the caveats in the documentation: https://pandas.pydata.org/pandas-docs/stable/user_guide/indexing.html#returning-a-view-versus-a-copy\n",
      "  self[k1] = value[k2]\n"
     ]
    }
   ],
   "source": [
    "df2['intercept'] = 1\n",
    "df2[['c_page', 'ab_page']] = pd.get_dummies(df2['group'])\n",
    "df2 = df2.drop('c_page', axis=1)\n"
   ]
  },
  {
   "cell_type": "code",
   "execution_count": 49,
   "metadata": {},
   "outputs": [
    {
     "data": {
      "text/html": [
       "<div>\n",
       "<style scoped>\n",
       "    .dataframe tbody tr th:only-of-type {\n",
       "        vertical-align: middle;\n",
       "    }\n",
       "\n",
       "    .dataframe tbody tr th {\n",
       "        vertical-align: top;\n",
       "    }\n",
       "\n",
       "    .dataframe thead th {\n",
       "        text-align: right;\n",
       "    }\n",
       "</style>\n",
       "<table border=\"1\" class=\"dataframe\">\n",
       "  <thead>\n",
       "    <tr style=\"text-align: right;\">\n",
       "      <th></th>\n",
       "      <th>user_id</th>\n",
       "      <th>timestamp</th>\n",
       "      <th>group</th>\n",
       "      <th>landing_page</th>\n",
       "      <th>converted</th>\n",
       "      <th>intercept</th>\n",
       "      <th>ab_page</th>\n",
       "    </tr>\n",
       "  </thead>\n",
       "  <tbody>\n",
       "    <tr>\n",
       "      <th>0</th>\n",
       "      <td>851104</td>\n",
       "      <td>2017-01-21 22:11:48.556739</td>\n",
       "      <td>control</td>\n",
       "      <td>old_page</td>\n",
       "      <td>0</td>\n",
       "      <td>1</td>\n",
       "      <td>0</td>\n",
       "    </tr>\n",
       "    <tr>\n",
       "      <th>1</th>\n",
       "      <td>804228</td>\n",
       "      <td>2017-01-12 08:01:45.159739</td>\n",
       "      <td>control</td>\n",
       "      <td>old_page</td>\n",
       "      <td>0</td>\n",
       "      <td>1</td>\n",
       "      <td>0</td>\n",
       "    </tr>\n",
       "    <tr>\n",
       "      <th>2</th>\n",
       "      <td>661590</td>\n",
       "      <td>2017-01-11 16:55:06.154213</td>\n",
       "      <td>treatment</td>\n",
       "      <td>new_page</td>\n",
       "      <td>0</td>\n",
       "      <td>1</td>\n",
       "      <td>1</td>\n",
       "    </tr>\n",
       "    <tr>\n",
       "      <th>3</th>\n",
       "      <td>853541</td>\n",
       "      <td>2017-01-08 18:28:03.143765</td>\n",
       "      <td>treatment</td>\n",
       "      <td>new_page</td>\n",
       "      <td>0</td>\n",
       "      <td>1</td>\n",
       "      <td>1</td>\n",
       "    </tr>\n",
       "    <tr>\n",
       "      <th>4</th>\n",
       "      <td>864975</td>\n",
       "      <td>2017-01-21 01:52:26.210827</td>\n",
       "      <td>control</td>\n",
       "      <td>old_page</td>\n",
       "      <td>1</td>\n",
       "      <td>1</td>\n",
       "      <td>0</td>\n",
       "    </tr>\n",
       "    <tr>\n",
       "      <th>5</th>\n",
       "      <td>936923</td>\n",
       "      <td>2017-01-10 15:20:49.083499</td>\n",
       "      <td>control</td>\n",
       "      <td>old_page</td>\n",
       "      <td>0</td>\n",
       "      <td>1</td>\n",
       "      <td>0</td>\n",
       "    </tr>\n",
       "    <tr>\n",
       "      <th>6</th>\n",
       "      <td>679687</td>\n",
       "      <td>2017-01-19 03:26:46.940749</td>\n",
       "      <td>treatment</td>\n",
       "      <td>new_page</td>\n",
       "      <td>1</td>\n",
       "      <td>1</td>\n",
       "      <td>1</td>\n",
       "    </tr>\n",
       "    <tr>\n",
       "      <th>7</th>\n",
       "      <td>719014</td>\n",
       "      <td>2017-01-17 01:48:29.539573</td>\n",
       "      <td>control</td>\n",
       "      <td>old_page</td>\n",
       "      <td>0</td>\n",
       "      <td>1</td>\n",
       "      <td>0</td>\n",
       "    </tr>\n",
       "    <tr>\n",
       "      <th>8</th>\n",
       "      <td>817355</td>\n",
       "      <td>2017-01-04 17:58:08.979471</td>\n",
       "      <td>treatment</td>\n",
       "      <td>new_page</td>\n",
       "      <td>1</td>\n",
       "      <td>1</td>\n",
       "      <td>1</td>\n",
       "    </tr>\n",
       "    <tr>\n",
       "      <th>9</th>\n",
       "      <td>839785</td>\n",
       "      <td>2017-01-15 18:11:06.610965</td>\n",
       "      <td>treatment</td>\n",
       "      <td>new_page</td>\n",
       "      <td>1</td>\n",
       "      <td>1</td>\n",
       "      <td>1</td>\n",
       "    </tr>\n",
       "  </tbody>\n",
       "</table>\n",
       "</div>"
      ],
      "text/plain": [
       "   user_id                   timestamp      group landing_page  converted  \\\n",
       "0   851104  2017-01-21 22:11:48.556739    control     old_page          0   \n",
       "1   804228  2017-01-12 08:01:45.159739    control     old_page          0   \n",
       "2   661590  2017-01-11 16:55:06.154213  treatment     new_page          0   \n",
       "3   853541  2017-01-08 18:28:03.143765  treatment     new_page          0   \n",
       "4   864975  2017-01-21 01:52:26.210827    control     old_page          1   \n",
       "5   936923  2017-01-10 15:20:49.083499    control     old_page          0   \n",
       "6   679687  2017-01-19 03:26:46.940749  treatment     new_page          1   \n",
       "7   719014  2017-01-17 01:48:29.539573    control     old_page          0   \n",
       "8   817355  2017-01-04 17:58:08.979471  treatment     new_page          1   \n",
       "9   839785  2017-01-15 18:11:06.610965  treatment     new_page          1   \n",
       "\n",
       "   intercept  ab_page  \n",
       "0          1        0  \n",
       "1          1        0  \n",
       "2          1        1  \n",
       "3          1        1  \n",
       "4          1        0  \n",
       "5          1        0  \n",
       "6          1        1  \n",
       "7          1        0  \n",
       "8          1        1  \n",
       "9          1        1  "
      ]
     },
     "execution_count": 49,
     "metadata": {},
     "output_type": "execute_result"
    }
   ],
   "source": [
    "df2.head(10)"
   ]
  },
  {
   "cell_type": "markdown",
   "metadata": {},
   "source": [
    "c. Use **statsmodels** to import your regression model.  Instantiate the model, and fit the model using the two columns you created in part **b.** to predict whether or not an individual converts."
   ]
  },
  {
   "cell_type": "code",
   "execution_count": 50,
   "metadata": {},
   "outputs": [],
   "source": [
    "model = sm.Logit(endog=df2['converted'],exog =df2[['intercept', 'ab_page']])"
   ]
  },
  {
   "cell_type": "code",
   "execution_count": 51,
   "metadata": {},
   "outputs": [
    {
     "name": "stdout",
     "output_type": "stream",
     "text": [
      "Optimization terminated successfully.\n",
      "         Current function value: 0.366118\n",
      "         Iterations 6\n"
     ]
    }
   ],
   "source": [
    "results = model.fit()"
   ]
  },
  {
   "cell_type": "markdown",
   "metadata": {},
   "source": [
    "d. Provide the summary of your model below, and use it as necessary to answer the following questions."
   ]
  },
  {
   "cell_type": "code",
   "execution_count": 52,
   "metadata": {},
   "outputs": [
    {
     "data": {
      "text/html": [
       "<table class=\"simpletable\">\n",
       "<caption>Logit Regression Results</caption>\n",
       "<tr>\n",
       "  <th>Dep. Variable:</th>       <td>converted</td>    <th>  No. Observations:  </th>   <td>290584</td>   \n",
       "</tr>\n",
       "<tr>\n",
       "  <th>Model:</th>                 <td>Logit</td>      <th>  Df Residuals:      </th>   <td>290582</td>   \n",
       "</tr>\n",
       "<tr>\n",
       "  <th>Method:</th>                 <td>MLE</td>       <th>  Df Model:          </th>   <td>     1</td>   \n",
       "</tr>\n",
       "<tr>\n",
       "  <th>Date:</th>            <td>Tue, 17 May 2022</td> <th>  Pseudo R-squ.:     </th>  <td>8.077e-06</td> \n",
       "</tr>\n",
       "<tr>\n",
       "  <th>Time:</th>                <td>09:20:44</td>     <th>  Log-Likelihood:    </th> <td>-1.0639e+05</td>\n",
       "</tr>\n",
       "<tr>\n",
       "  <th>converged:</th>             <td>True</td>       <th>  LL-Null:           </th> <td>-1.0639e+05</td>\n",
       "</tr>\n",
       "<tr>\n",
       "  <th>Covariance Type:</th>     <td>nonrobust</td>    <th>  LLR p-value:       </th>   <td>0.1899</td>   \n",
       "</tr>\n",
       "</table>\n",
       "<table class=\"simpletable\">\n",
       "<tr>\n",
       "      <td></td>         <th>coef</th>     <th>std err</th>      <th>z</th>      <th>P>|z|</th>  <th>[0.025</th>    <th>0.975]</th>  \n",
       "</tr>\n",
       "<tr>\n",
       "  <th>intercept</th> <td>   -1.9888</td> <td>    0.008</td> <td> -246.669</td> <td> 0.000</td> <td>   -2.005</td> <td>   -1.973</td>\n",
       "</tr>\n",
       "<tr>\n",
       "  <th>ab_page</th>   <td>   -0.0150</td> <td>    0.011</td> <td>   -1.311</td> <td> 0.190</td> <td>   -0.037</td> <td>    0.007</td>\n",
       "</tr>\n",
       "</table>"
      ],
      "text/plain": [
       "<class 'statsmodels.iolib.summary.Summary'>\n",
       "\"\"\"\n",
       "                           Logit Regression Results                           \n",
       "==============================================================================\n",
       "Dep. Variable:              converted   No. Observations:               290584\n",
       "Model:                          Logit   Df Residuals:                   290582\n",
       "Method:                           MLE   Df Model:                            1\n",
       "Date:                Tue, 17 May 2022   Pseudo R-squ.:               8.077e-06\n",
       "Time:                        09:20:44   Log-Likelihood:            -1.0639e+05\n",
       "converged:                       True   LL-Null:                   -1.0639e+05\n",
       "Covariance Type:            nonrobust   LLR p-value:                    0.1899\n",
       "==============================================================================\n",
       "                 coef    std err          z      P>|z|      [0.025      0.975]\n",
       "------------------------------------------------------------------------------\n",
       "intercept     -1.9888      0.008   -246.669      0.000      -2.005      -1.973\n",
       "ab_page       -0.0150      0.011     -1.311      0.190      -0.037       0.007\n",
       "==============================================================================\n",
       "\"\"\""
      ]
     },
     "execution_count": 52,
     "metadata": {},
     "output_type": "execute_result"
    }
   ],
   "source": [
    "results.summary()"
   ]
  },
  {
   "cell_type": "markdown",
   "metadata": {},
   "source": [
    "e. What is the p-value associated with **ab_page**? Why does it differ from the value you found in **Part II**?<br><br>  **Hint**: What are the null and alternative hypotheses associated with your regression model, and how do they compare to the null and alternative hypotheses in the **Part II**?"
   ]
  },
  {
   "cell_type": "markdown",
   "metadata": {},
   "source": [
    "Answer: the p-value associtaed with ab_page is 0.190. It differs from the value in part 2 which which is 0.9 because in the regression part the null hypothesis is that there is no significant difference in conversion based on which page a customer receives, while the alternative hypothesis is that the when a customer receives the new_page, he is likely to have converted=1."
   ]
  },
  {
   "cell_type": "markdown",
   "metadata": {},
   "source": [
    "f. Now, you are considering other things that might influence whether or not an individual converts.  Discuss why it is a good idea to consider other factors to add into your regression model.  Are there any disadvantages to adding additional terms into your regression model?"
   ]
  },
  {
   "cell_type": "markdown",
   "metadata": {},
   "source": [
    "Answer: \n",
    "\n",
    "We figured out that the conversion doesn't really depend whther or no the individual was in the treatment group or the control group, therefore it is a good idea to consider other factors that might affect the decision of conversion. The landing page column is influenced by the group column so it won't help. So, considering the timestamp as a factor in the model might help.\n",
    "\n",
    "One disadvantage when using the timestamp column and converting it to Morning afternoon and evening variables, is that these 3 features might be highly correlated and reult in what is called Multicollinearity. "
   ]
  },
  {
   "cell_type": "markdown",
   "metadata": {},
   "source": [
    "g. Now along with testing if the conversion rate changes for different pages, also add an effect based on which country a user lives. You will need to read in the **countries.csv** dataset and merge together your datasets on the approporiate rows.  [Here](https://pandas.pydata.org/pandas-docs/stable/generated/pandas.DataFrame.join.html) are the docs for joining tables. \n",
    "\n",
    "Does it appear that country had an impact on conversion?  Don't forget to create dummy variables for these country columns - **Hint: You will need two columns for the three dummy variables.** Provide the statistical output as well as a written response to answer this question."
   ]
  },
  {
   "cell_type": "code",
   "execution_count": 53,
   "metadata": {},
   "outputs": [],
   "source": [
    "countries_df = pd.read_csv('./countries.csv')\n",
    "df_new = countries_df.set_index('user_id').join(df2.set_index('user_id'), how='inner')"
   ]
  },
  {
   "cell_type": "code",
   "execution_count": 54,
   "metadata": {},
   "outputs": [
    {
     "data": {
      "text/html": [
       "<div>\n",
       "<style scoped>\n",
       "    .dataframe tbody tr th:only-of-type {\n",
       "        vertical-align: middle;\n",
       "    }\n",
       "\n",
       "    .dataframe tbody tr th {\n",
       "        vertical-align: top;\n",
       "    }\n",
       "\n",
       "    .dataframe thead th {\n",
       "        text-align: right;\n",
       "    }\n",
       "</style>\n",
       "<table border=\"1\" class=\"dataframe\">\n",
       "  <thead>\n",
       "    <tr style=\"text-align: right;\">\n",
       "      <th></th>\n",
       "      <th>country</th>\n",
       "      <th>timestamp</th>\n",
       "      <th>group</th>\n",
       "      <th>landing_page</th>\n",
       "      <th>converted</th>\n",
       "      <th>intercept</th>\n",
       "      <th>ab_page</th>\n",
       "    </tr>\n",
       "    <tr>\n",
       "      <th>user_id</th>\n",
       "      <th></th>\n",
       "      <th></th>\n",
       "      <th></th>\n",
       "      <th></th>\n",
       "      <th></th>\n",
       "      <th></th>\n",
       "      <th></th>\n",
       "    </tr>\n",
       "  </thead>\n",
       "  <tbody>\n",
       "    <tr>\n",
       "      <th>834778</th>\n",
       "      <td>UK</td>\n",
       "      <td>2017-01-14 23:08:43.304998</td>\n",
       "      <td>control</td>\n",
       "      <td>old_page</td>\n",
       "      <td>0</td>\n",
       "      <td>1</td>\n",
       "      <td>0</td>\n",
       "    </tr>\n",
       "    <tr>\n",
       "      <th>928468</th>\n",
       "      <td>US</td>\n",
       "      <td>2017-01-23 14:44:16.387854</td>\n",
       "      <td>treatment</td>\n",
       "      <td>new_page</td>\n",
       "      <td>0</td>\n",
       "      <td>1</td>\n",
       "      <td>1</td>\n",
       "    </tr>\n",
       "    <tr>\n",
       "      <th>822059</th>\n",
       "      <td>UK</td>\n",
       "      <td>2017-01-16 14:04:14.719771</td>\n",
       "      <td>treatment</td>\n",
       "      <td>new_page</td>\n",
       "      <td>1</td>\n",
       "      <td>1</td>\n",
       "      <td>1</td>\n",
       "    </tr>\n",
       "    <tr>\n",
       "      <th>711597</th>\n",
       "      <td>UK</td>\n",
       "      <td>2017-01-22 03:14:24.763511</td>\n",
       "      <td>control</td>\n",
       "      <td>old_page</td>\n",
       "      <td>0</td>\n",
       "      <td>1</td>\n",
       "      <td>0</td>\n",
       "    </tr>\n",
       "    <tr>\n",
       "      <th>710616</th>\n",
       "      <td>UK</td>\n",
       "      <td>2017-01-16 13:14:44.000513</td>\n",
       "      <td>treatment</td>\n",
       "      <td>new_page</td>\n",
       "      <td>0</td>\n",
       "      <td>1</td>\n",
       "      <td>1</td>\n",
       "    </tr>\n",
       "    <tr>\n",
       "      <th>909908</th>\n",
       "      <td>UK</td>\n",
       "      <td>2017-01-06 20:44:26.334764</td>\n",
       "      <td>treatment</td>\n",
       "      <td>new_page</td>\n",
       "      <td>0</td>\n",
       "      <td>1</td>\n",
       "      <td>1</td>\n",
       "    </tr>\n",
       "    <tr>\n",
       "      <th>811617</th>\n",
       "      <td>US</td>\n",
       "      <td>2017-01-02 18:42:11.851370</td>\n",
       "      <td>treatment</td>\n",
       "      <td>new_page</td>\n",
       "      <td>1</td>\n",
       "      <td>1</td>\n",
       "      <td>1</td>\n",
       "    </tr>\n",
       "    <tr>\n",
       "      <th>938122</th>\n",
       "      <td>US</td>\n",
       "      <td>2017-01-10 09:32:08.222716</td>\n",
       "      <td>treatment</td>\n",
       "      <td>new_page</td>\n",
       "      <td>1</td>\n",
       "      <td>1</td>\n",
       "      <td>1</td>\n",
       "    </tr>\n",
       "    <tr>\n",
       "      <th>887018</th>\n",
       "      <td>US</td>\n",
       "      <td>2017-01-06 11:09:40.487196</td>\n",
       "      <td>treatment</td>\n",
       "      <td>new_page</td>\n",
       "      <td>0</td>\n",
       "      <td>1</td>\n",
       "      <td>1</td>\n",
       "    </tr>\n",
       "    <tr>\n",
       "      <th>820683</th>\n",
       "      <td>US</td>\n",
       "      <td>2017-01-14 11:52:06.521342</td>\n",
       "      <td>treatment</td>\n",
       "      <td>new_page</td>\n",
       "      <td>0</td>\n",
       "      <td>1</td>\n",
       "      <td>1</td>\n",
       "    </tr>\n",
       "  </tbody>\n",
       "</table>\n",
       "</div>"
      ],
      "text/plain": [
       "        country                   timestamp      group landing_page  \\\n",
       "user_id                                                               \n",
       "834778       UK  2017-01-14 23:08:43.304998    control     old_page   \n",
       "928468       US  2017-01-23 14:44:16.387854  treatment     new_page   \n",
       "822059       UK  2017-01-16 14:04:14.719771  treatment     new_page   \n",
       "711597       UK  2017-01-22 03:14:24.763511    control     old_page   \n",
       "710616       UK  2017-01-16 13:14:44.000513  treatment     new_page   \n",
       "909908       UK  2017-01-06 20:44:26.334764  treatment     new_page   \n",
       "811617       US  2017-01-02 18:42:11.851370  treatment     new_page   \n",
       "938122       US  2017-01-10 09:32:08.222716  treatment     new_page   \n",
       "887018       US  2017-01-06 11:09:40.487196  treatment     new_page   \n",
       "820683       US  2017-01-14 11:52:06.521342  treatment     new_page   \n",
       "\n",
       "         converted  intercept  ab_page  \n",
       "user_id                                 \n",
       "834778           0          1        0  \n",
       "928468           0          1        1  \n",
       "822059           1          1        1  \n",
       "711597           0          1        0  \n",
       "710616           0          1        1  \n",
       "909908           0          1        1  \n",
       "811617           1          1        1  \n",
       "938122           1          1        1  \n",
       "887018           0          1        1  \n",
       "820683           0          1        1  "
      ]
     },
     "execution_count": 54,
     "metadata": {},
     "output_type": "execute_result"
    }
   ],
   "source": [
    "df_new.head(10)"
   ]
  },
  {
   "cell_type": "code",
   "execution_count": 55,
   "metadata": {},
   "outputs": [
    {
     "data": {
      "text/plain": [
       "{'CA', 'UK', 'US'}"
      ]
     },
     "execution_count": 55,
     "metadata": {},
     "output_type": "execute_result"
    }
   ],
   "source": [
    "set(df_new.country)"
   ]
  },
  {
   "cell_type": "code",
   "execution_count": 56,
   "metadata": {},
   "outputs": [
    {
     "data": {
      "text/html": [
       "<div>\n",
       "<style scoped>\n",
       "    .dataframe tbody tr th:only-of-type {\n",
       "        vertical-align: middle;\n",
       "    }\n",
       "\n",
       "    .dataframe tbody tr th {\n",
       "        vertical-align: top;\n",
       "    }\n",
       "\n",
       "    .dataframe thead th {\n",
       "        text-align: right;\n",
       "    }\n",
       "</style>\n",
       "<table border=\"1\" class=\"dataframe\">\n",
       "  <thead>\n",
       "    <tr style=\"text-align: right;\">\n",
       "      <th></th>\n",
       "      <th>country</th>\n",
       "      <th>timestamp</th>\n",
       "      <th>group</th>\n",
       "      <th>landing_page</th>\n",
       "      <th>converted</th>\n",
       "      <th>intercept</th>\n",
       "      <th>ab_page</th>\n",
       "      <th>CA</th>\n",
       "      <th>UK</th>\n",
       "      <th>US</th>\n",
       "    </tr>\n",
       "    <tr>\n",
       "      <th>user_id</th>\n",
       "      <th></th>\n",
       "      <th></th>\n",
       "      <th></th>\n",
       "      <th></th>\n",
       "      <th></th>\n",
       "      <th></th>\n",
       "      <th></th>\n",
       "      <th></th>\n",
       "      <th></th>\n",
       "      <th></th>\n",
       "    </tr>\n",
       "  </thead>\n",
       "  <tbody>\n",
       "    <tr>\n",
       "      <th>834778</th>\n",
       "      <td>UK</td>\n",
       "      <td>2017-01-14 23:08:43.304998</td>\n",
       "      <td>control</td>\n",
       "      <td>old_page</td>\n",
       "      <td>0</td>\n",
       "      <td>1</td>\n",
       "      <td>0</td>\n",
       "      <td>0</td>\n",
       "      <td>1</td>\n",
       "      <td>0</td>\n",
       "    </tr>\n",
       "    <tr>\n",
       "      <th>928468</th>\n",
       "      <td>US</td>\n",
       "      <td>2017-01-23 14:44:16.387854</td>\n",
       "      <td>treatment</td>\n",
       "      <td>new_page</td>\n",
       "      <td>0</td>\n",
       "      <td>1</td>\n",
       "      <td>1</td>\n",
       "      <td>0</td>\n",
       "      <td>0</td>\n",
       "      <td>1</td>\n",
       "    </tr>\n",
       "    <tr>\n",
       "      <th>822059</th>\n",
       "      <td>UK</td>\n",
       "      <td>2017-01-16 14:04:14.719771</td>\n",
       "      <td>treatment</td>\n",
       "      <td>new_page</td>\n",
       "      <td>1</td>\n",
       "      <td>1</td>\n",
       "      <td>1</td>\n",
       "      <td>0</td>\n",
       "      <td>1</td>\n",
       "      <td>0</td>\n",
       "    </tr>\n",
       "    <tr>\n",
       "      <th>711597</th>\n",
       "      <td>UK</td>\n",
       "      <td>2017-01-22 03:14:24.763511</td>\n",
       "      <td>control</td>\n",
       "      <td>old_page</td>\n",
       "      <td>0</td>\n",
       "      <td>1</td>\n",
       "      <td>0</td>\n",
       "      <td>0</td>\n",
       "      <td>1</td>\n",
       "      <td>0</td>\n",
       "    </tr>\n",
       "    <tr>\n",
       "      <th>710616</th>\n",
       "      <td>UK</td>\n",
       "      <td>2017-01-16 13:14:44.000513</td>\n",
       "      <td>treatment</td>\n",
       "      <td>new_page</td>\n",
       "      <td>0</td>\n",
       "      <td>1</td>\n",
       "      <td>1</td>\n",
       "      <td>0</td>\n",
       "      <td>1</td>\n",
       "      <td>0</td>\n",
       "    </tr>\n",
       "  </tbody>\n",
       "</table>\n",
       "</div>"
      ],
      "text/plain": [
       "        country                   timestamp      group landing_page  \\\n",
       "user_id                                                               \n",
       "834778       UK  2017-01-14 23:08:43.304998    control     old_page   \n",
       "928468       US  2017-01-23 14:44:16.387854  treatment     new_page   \n",
       "822059       UK  2017-01-16 14:04:14.719771  treatment     new_page   \n",
       "711597       UK  2017-01-22 03:14:24.763511    control     old_page   \n",
       "710616       UK  2017-01-16 13:14:44.000513  treatment     new_page   \n",
       "\n",
       "         converted  intercept  ab_page  CA  UK  US  \n",
       "user_id                                             \n",
       "834778           0          1        0   0   1   0  \n",
       "928468           0          1        1   0   0   1  \n",
       "822059           1          1        1   0   1   0  \n",
       "711597           0          1        0   0   1   0  \n",
       "710616           0          1        1   0   1   0  "
      ]
     },
     "execution_count": 56,
     "metadata": {},
     "output_type": "execute_result"
    }
   ],
   "source": [
    "### Create the necessary dummy variables\n",
    "df_new[['CA', 'UK', 'US']] = pd.get_dummies(df_new['country'])\n",
    "df_new.head()"
   ]
  },
  {
   "cell_type": "code",
   "execution_count": 57,
   "metadata": {},
   "outputs": [],
   "source": [
    "model = sm.Logit(endog = df_new['converted'],exog= df_new[['intercept', 'ab_page', 'CA', 'UK']])"
   ]
  },
  {
   "cell_type": "code",
   "execution_count": 58,
   "metadata": {},
   "outputs": [
    {
     "name": "stdout",
     "output_type": "stream",
     "text": [
      "Optimization terminated successfully.\n",
      "         Current function value: 0.366113\n",
      "         Iterations 6\n"
     ]
    }
   ],
   "source": [
    "results= model.fit()"
   ]
  },
  {
   "cell_type": "code",
   "execution_count": 59,
   "metadata": {},
   "outputs": [
    {
     "data": {
      "text/html": [
       "<table class=\"simpletable\">\n",
       "<caption>Logit Regression Results</caption>\n",
       "<tr>\n",
       "  <th>Dep. Variable:</th>       <td>converted</td>    <th>  No. Observations:  </th>   <td>290584</td>   \n",
       "</tr>\n",
       "<tr>\n",
       "  <th>Model:</th>                 <td>Logit</td>      <th>  Df Residuals:      </th>   <td>290580</td>   \n",
       "</tr>\n",
       "<tr>\n",
       "  <th>Method:</th>                 <td>MLE</td>       <th>  Df Model:          </th>   <td>     3</td>   \n",
       "</tr>\n",
       "<tr>\n",
       "  <th>Date:</th>            <td>Tue, 17 May 2022</td> <th>  Pseudo R-squ.:     </th>  <td>2.323e-05</td> \n",
       "</tr>\n",
       "<tr>\n",
       "  <th>Time:</th>                <td>09:20:47</td>     <th>  Log-Likelihood:    </th> <td>-1.0639e+05</td>\n",
       "</tr>\n",
       "<tr>\n",
       "  <th>converged:</th>             <td>True</td>       <th>  LL-Null:           </th> <td>-1.0639e+05</td>\n",
       "</tr>\n",
       "<tr>\n",
       "  <th>Covariance Type:</th>     <td>nonrobust</td>    <th>  LLR p-value:       </th>   <td>0.1760</td>   \n",
       "</tr>\n",
       "</table>\n",
       "<table class=\"simpletable\">\n",
       "<tr>\n",
       "      <td></td>         <th>coef</th>     <th>std err</th>      <th>z</th>      <th>P>|z|</th>  <th>[0.025</th>    <th>0.975]</th>  \n",
       "</tr>\n",
       "<tr>\n",
       "  <th>intercept</th> <td>   -1.9893</td> <td>    0.009</td> <td> -223.763</td> <td> 0.000</td> <td>   -2.007</td> <td>   -1.972</td>\n",
       "</tr>\n",
       "<tr>\n",
       "  <th>ab_page</th>   <td>   -0.0149</td> <td>    0.011</td> <td>   -1.307</td> <td> 0.191</td> <td>   -0.037</td> <td>    0.007</td>\n",
       "</tr>\n",
       "<tr>\n",
       "  <th>CA</th>        <td>   -0.0408</td> <td>    0.027</td> <td>   -1.516</td> <td> 0.130</td> <td>   -0.093</td> <td>    0.012</td>\n",
       "</tr>\n",
       "<tr>\n",
       "  <th>UK</th>        <td>    0.0099</td> <td>    0.013</td> <td>    0.743</td> <td> 0.457</td> <td>   -0.016</td> <td>    0.036</td>\n",
       "</tr>\n",
       "</table>"
      ],
      "text/plain": [
       "<class 'statsmodels.iolib.summary.Summary'>\n",
       "\"\"\"\n",
       "                           Logit Regression Results                           \n",
       "==============================================================================\n",
       "Dep. Variable:              converted   No. Observations:               290584\n",
       "Model:                          Logit   Df Residuals:                   290580\n",
       "Method:                           MLE   Df Model:                            3\n",
       "Date:                Tue, 17 May 2022   Pseudo R-squ.:               2.323e-05\n",
       "Time:                        09:20:47   Log-Likelihood:            -1.0639e+05\n",
       "converged:                       True   LL-Null:                   -1.0639e+05\n",
       "Covariance Type:            nonrobust   LLR p-value:                    0.1760\n",
       "==============================================================================\n",
       "                 coef    std err          z      P>|z|      [0.025      0.975]\n",
       "------------------------------------------------------------------------------\n",
       "intercept     -1.9893      0.009   -223.763      0.000      -2.007      -1.972\n",
       "ab_page       -0.0149      0.011     -1.307      0.191      -0.037       0.007\n",
       "CA            -0.0408      0.027     -1.516      0.130      -0.093       0.012\n",
       "UK             0.0099      0.013      0.743      0.457      -0.016       0.036\n",
       "==============================================================================\n",
       "\"\"\""
      ]
     },
     "execution_count": 59,
     "metadata": {},
     "output_type": "execute_result"
    }
   ],
   "source": [
    "results.summary()"
   ]
  },
  {
   "cell_type": "markdown",
   "metadata": {},
   "source": [
    "we had a resulted warning as the number of maximum iterations was exceeded so we had to dropout the US column from the model fitting\n",
    "\n",
    "It doesn't seem from the results that the country has an impact on the conversion."
   ]
  },
  {
   "cell_type": "markdown",
   "metadata": {},
   "source": [
    "h. Though you have now looked at the individual factors of country and page on conversion, we would now like to look at an interaction between page and country to see if there significant effects on conversion.  Create the necessary additional columns, and fit the new model.  \n",
    "\n",
    "Provide the summary results, and your conclusions based on the results."
   ]
  },
  {
   "cell_type": "code",
   "execution_count": 60,
   "metadata": {},
   "outputs": [],
   "source": [
    "### Fit Your Linear Model And Obtain the Results\n",
    "df_new['CA_ab'] = df_new['ab_page'] * df_new['CA']\n",
    "df_new['UK_ab'] = df_new['ab_page'] * df_new['UK']\n",
    "df_new['US_ab'] = df_new['ab_page'] * df_new['US']"
   ]
  },
  {
   "cell_type": "code",
   "execution_count": 61,
   "metadata": {},
   "outputs": [],
   "source": [
    "Model = sm.Logit(endog = df_new['converted'],exog= df_new[['intercept','ab_page','CA','UK','CA_ab','UK_ab']])"
   ]
  },
  {
   "cell_type": "code",
   "execution_count": 62,
   "metadata": {},
   "outputs": [
    {
     "name": "stdout",
     "output_type": "stream",
     "text": [
      "Optimization terminated successfully.\n",
      "         Current function value: 0.366109\n",
      "         Iterations 6\n"
     ]
    }
   ],
   "source": [
    "results= Model.fit()"
   ]
  },
  {
   "cell_type": "code",
   "execution_count": 63,
   "metadata": {},
   "outputs": [
    {
     "data": {
      "text/html": [
       "<table class=\"simpletable\">\n",
       "<caption>Logit Regression Results</caption>\n",
       "<tr>\n",
       "  <th>Dep. Variable:</th>       <td>converted</td>    <th>  No. Observations:  </th>   <td>290584</td>   \n",
       "</tr>\n",
       "<tr>\n",
       "  <th>Model:</th>                 <td>Logit</td>      <th>  Df Residuals:      </th>   <td>290578</td>   \n",
       "</tr>\n",
       "<tr>\n",
       "  <th>Method:</th>                 <td>MLE</td>       <th>  Df Model:          </th>   <td>     5</td>   \n",
       "</tr>\n",
       "<tr>\n",
       "  <th>Date:</th>            <td>Tue, 17 May 2022</td> <th>  Pseudo R-squ.:     </th>  <td>3.482e-05</td> \n",
       "</tr>\n",
       "<tr>\n",
       "  <th>Time:</th>                <td>09:20:51</td>     <th>  Log-Likelihood:    </th> <td>-1.0639e+05</td>\n",
       "</tr>\n",
       "<tr>\n",
       "  <th>converged:</th>             <td>True</td>       <th>  LL-Null:           </th> <td>-1.0639e+05</td>\n",
       "</tr>\n",
       "<tr>\n",
       "  <th>Covariance Type:</th>     <td>nonrobust</td>    <th>  LLR p-value:       </th>   <td>0.1920</td>   \n",
       "</tr>\n",
       "</table>\n",
       "<table class=\"simpletable\">\n",
       "<tr>\n",
       "      <td></td>         <th>coef</th>     <th>std err</th>      <th>z</th>      <th>P>|z|</th>  <th>[0.025</th>    <th>0.975]</th>  \n",
       "</tr>\n",
       "<tr>\n",
       "  <th>intercept</th> <td>   -1.9865</td> <td>    0.010</td> <td> -206.344</td> <td> 0.000</td> <td>   -2.005</td> <td>   -1.968</td>\n",
       "</tr>\n",
       "<tr>\n",
       "  <th>ab_page</th>   <td>   -0.0206</td> <td>    0.014</td> <td>   -1.505</td> <td> 0.132</td> <td>   -0.047</td> <td>    0.006</td>\n",
       "</tr>\n",
       "<tr>\n",
       "  <th>CA</th>        <td>   -0.0175</td> <td>    0.038</td> <td>   -0.465</td> <td> 0.642</td> <td>   -0.091</td> <td>    0.056</td>\n",
       "</tr>\n",
       "<tr>\n",
       "  <th>UK</th>        <td>   -0.0057</td> <td>    0.019</td> <td>   -0.306</td> <td> 0.760</td> <td>   -0.043</td> <td>    0.031</td>\n",
       "</tr>\n",
       "<tr>\n",
       "  <th>CA_ab</th>     <td>   -0.0469</td> <td>    0.054</td> <td>   -0.872</td> <td> 0.383</td> <td>   -0.152</td> <td>    0.059</td>\n",
       "</tr>\n",
       "<tr>\n",
       "  <th>UK_ab</th>     <td>    0.0314</td> <td>    0.027</td> <td>    1.181</td> <td> 0.238</td> <td>   -0.021</td> <td>    0.084</td>\n",
       "</tr>\n",
       "</table>"
      ],
      "text/plain": [
       "<class 'statsmodels.iolib.summary.Summary'>\n",
       "\"\"\"\n",
       "                           Logit Regression Results                           \n",
       "==============================================================================\n",
       "Dep. Variable:              converted   No. Observations:               290584\n",
       "Model:                          Logit   Df Residuals:                   290578\n",
       "Method:                           MLE   Df Model:                            5\n",
       "Date:                Tue, 17 May 2022   Pseudo R-squ.:               3.482e-05\n",
       "Time:                        09:20:51   Log-Likelihood:            -1.0639e+05\n",
       "converged:                       True   LL-Null:                   -1.0639e+05\n",
       "Covariance Type:            nonrobust   LLR p-value:                    0.1920\n",
       "==============================================================================\n",
       "                 coef    std err          z      P>|z|      [0.025      0.975]\n",
       "------------------------------------------------------------------------------\n",
       "intercept     -1.9865      0.010   -206.344      0.000      -2.005      -1.968\n",
       "ab_page       -0.0206      0.014     -1.505      0.132      -0.047       0.006\n",
       "CA            -0.0175      0.038     -0.465      0.642      -0.091       0.056\n",
       "UK            -0.0057      0.019     -0.306      0.760      -0.043       0.031\n",
       "CA_ab         -0.0469      0.054     -0.872      0.383      -0.152       0.059\n",
       "UK_ab          0.0314      0.027      1.181      0.238      -0.021       0.084\n",
       "==============================================================================\n",
       "\"\"\""
      ]
     },
     "execution_count": 63,
     "metadata": {},
     "output_type": "execute_result"
    }
   ],
   "source": [
    "results.summary()"
   ]
  },
  {
   "cell_type": "markdown",
   "metadata": {},
   "source": [
    "Based on the results, one can not see a significant effect on conversions, however, the interaction between the pages and the countries was better than only countries in predicting the conversion. "
   ]
  },
  {
   "cell_type": "markdown",
   "metadata": {},
   "source": [
    "<a id='conclusions'></a>\n",
    "## Conclusions\n",
    "\n",
    "Congratulations on completing the project! \n",
    "\n",
    "### Gather Submission Materials\n",
    "\n",
    "Once you are satisfied with the status of your Notebook, you should save it in a format that will make it easy for others to read. You can use the __File -> Download as -> HTML (.html)__ menu to save your notebook as an .html file. If you are working locally and get an error about \"No module name\", then open a terminal and try installing the missing module using `pip install <module_name>` (don't include the \"<\" or \">\" or any words following a period in the module name).\n",
    "\n",
    "You will submit both your original Notebook and an HTML or PDF copy of the Notebook for review. There is no need for you to include any data files with your submission. If you made reference to other websites, books, and other resources to help you in solving tasks in the project, make sure that you document them. It is recommended that you either add a \"Resources\" section in a Markdown cell at the end of the Notebook report, or you can include a `readme.txt` file documenting your sources.\n",
    "\n",
    "### Submit the Project\n",
    "\n",
    "When you're ready, click on the \"Submit Project\" button to go to the project submission page. You can submit your files as a .zip archive or you can link to a GitHub repository containing your project files. If you go with GitHub, note that your submission will be a snapshot of the linked repository at time of submission. It is recommended that you keep each project in a separate repository to avoid any potential confusion: if a reviewer gets multiple folders representing multiple projects, there might be confusion regarding what project is to be evaluated.\n",
    "\n",
    "It can take us up to a week to grade the project, but in most cases it is much faster. You will get an email once your submission has been reviewed. If you are having any problems submitting your project or wish to check on the status of your submission, please email us at dataanalyst-project@udacity.com. In the meantime, you should feel free to continue on with your learning journey by beginning the next module in the program."
   ]
  },
  {
   "cell_type": "code",
   "execution_count": null,
   "metadata": {},
   "outputs": [],
   "source": []
  }
 ],
 "metadata": {
  "kernelspec": {
   "display_name": "Python 3 (ipykernel)",
   "language": "python",
   "name": "python3"
  },
  "language_info": {
   "codemirror_mode": {
    "name": "ipython",
    "version": 3
   },
   "file_extension": ".py",
   "mimetype": "text/x-python",
   "name": "python",
   "nbconvert_exporter": "python",
   "pygments_lexer": "ipython3",
   "version": "3.9.7"
  }
 },
 "nbformat": 4,
 "nbformat_minor": 2
}
